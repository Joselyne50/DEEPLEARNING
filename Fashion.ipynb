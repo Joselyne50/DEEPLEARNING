{
  "cells": [
    {
      "cell_type": "markdown",
      "metadata": {
        "id": "view-in-github",
        "colab_type": "text"
      },
      "source": [
        "<a href=\"https://colab.research.google.com/github/Joselyne50/DEEPLEARNING/blob/main/Fashion.ipynb\" target=\"_parent\"><img src=\"https://colab.research.google.com/assets/colab-badge.svg\" alt=\"Open In Colab\"/></a>"
      ]
    },
    {
      "cell_type": "markdown",
      "metadata": {
        "id": "aKUovJxw9f2U"
      },
      "source": [
        "# Setup"
      ]
    },
    {
      "cell_type": "code",
      "execution_count": 4,
      "metadata": {
        "id": "RLlEw9i4lD_7"
      },
      "outputs": [],
      "source": [
        "import pandas as pd\n",
        "import numpy as np\n",
        "import matplotlib.pyplot as plt\n",
        "import os\n",
        "from zipfile import ZipFile\n",
        "from sklearn.metrics import classification_report\n",
        "\n",
        "import tensorflow as tf\n",
        "from tensorflow.keras.layers import Input, Conv2D, MaxPooling2D, \\\n",
        "                               Flatten, Dense, GlobalAveragePooling2D, \\\n",
        "                                  Dropout, BatchNormalization, ReLU\n",
        "\n",
        "from tensorflow.keras.models import Model\n",
        "from tensorflow.keras.preprocessing.image import load_img, img_to_array\n",
        "from tensorflow.keras.applications.resnet50 import preprocess_input, ResNet50\n",
        "from tensorflow.keras.applications.resnet import ResNet101\n",
        "from tensorflow.keras.preprocessing.image import ImageDataGenerator\n",
        "\n",
        "from sklearn.metrics import precision_score, recall_score, f1_score, accuracy_score, \\\n",
        "                    classification_report\n",
        "\n",
        "from imblearn.over_sampling import SMOTE\n",
        "from imblearn.under_sampling import RandomUnderSampler\n",
        "from collections import Counter\n",
        "\n",
        "from tqdm.auto import tqdm\n",
        "\n",
        "plt.style.use('ggplot')"
      ]
    },
    {
      "cell_type": "code",
      "source": [],
      "metadata": {
        "id": "bIm9fRps0h-j"
      },
      "execution_count": null,
      "outputs": []
    },
    {
      "cell_type": "code",
      "execution_count": 5,
      "metadata": {
        "id": "QdWgxLHFlUEW"
      },
      "outputs": [],
      "source": [
        "#  Current working directory according to project\n",
        "os.chdir('/content/drive/MyDrive/Semester2/Advanced_cv')"
      ]
    },
    {
      "cell_type": "markdown",
      "source": [
        "# Utilities"
      ],
      "metadata": {
        "id": "3JYnvWskeLtL"
      }
    },
    {
      "cell_type": "markdown",
      "source": [
        "In our project we seperating cnn block from six softmax blocks. Thereby we need a feature extractor, which utilizes the base model such as pretrained Resnet or else. It starts a loop, taking all image paths into account, one by one it loads an image, passes it Base models CNN layer extract features, flatten them and returns the flatten features."
      ],
      "metadata": {
        "id": "YXniy-NHEDdV"
      }
    },
    {
      "cell_type": "code",
      "source": [
        "def feature_extractor(data, image_size, base_model):\n",
        "\n",
        "    input_shape = (image_size, image_size, 3)\n",
        "    inputs = Input(shape=input_shape,name = 'image_input')\n",
        "    x = base_model(inputs)\n",
        "    x = Flatten()(x)\n",
        "    model = Model(inputs=inputs, outputs=x)\n",
        "\n",
        "    features_retrieved = []\n",
        "\n",
        "    for img_path in tqdm(data, total=len(data), desc=\"Retrieving features\"):\n",
        "        img = load_img(img_path, target_size=(image_size, image_size))\n",
        "        x = img_to_array(img)\n",
        "        x = np.expand_dims(x, axis=0)\n",
        "        x = preprocess_input(x)\n",
        "\n",
        "        features = model.predict(x, verbose=0)\n",
        "        features_reduce =  features.squeeze()\n",
        "\n",
        "        features_retrieved.append(features_reduce)\n",
        "\n",
        "    return features_retrieved"
      ],
      "metadata": {
        "id": "ot5fu8JWeLd_"
      },
      "execution_count": 6,
      "outputs": []
    },
    {
      "cell_type": "markdown",
      "metadata": {
        "id": "QVBb26fDwcEM"
      },
      "source": [
        "# Hyperparameters"
      ]
    },
    {
      "cell_type": "code",
      "execution_count": 7,
      "metadata": {
        "id": "e_Zm2JyEFmkL",
        "colab": {
          "base_uri": "https://localhost:8080/"
        },
        "outputId": "2dc52168-0810-4092-a9ac-6d0029e65cd1"
      },
      "outputs": [
        {
          "output_type": "stream",
          "name": "stdout",
          "text": [
            "Downloading data from https://storage.googleapis.com/tensorflow/keras-applications/resnet/resnet101_weights_tf_dim_ordering_tf_kernels_notop.h5\n",
            "171446536/171446536 [==============================] - 1s 0us/step\n"
          ]
        }
      ],
      "source": [
        "IMAGE_SIZE=150\n",
        "SHUFFLE_BUFFER_SIZE = 1000\n",
        "BATCH_SIZE=32\n",
        "NUM_SUBCATEGORIES = [7, 3, 3, 4, 6, 3]\n",
        "BASE_MODEL = ResNet101(weights='imagenet', include_top=False, input_shape=(IMAGE_SIZE, IMAGE_SIZE, 3))"
      ]
    },
    {
      "cell_type": "markdown",
      "metadata": {
        "id": "QU5zjiD5nmpr"
      },
      "source": [
        "# Data"
      ]
    },
    {
      "cell_type": "markdown",
      "metadata": {
        "id": "NX-yJCIEwnXq"
      },
      "source": [
        "## Data Reading"
      ]
    },
    {
      "cell_type": "code",
      "execution_count": 8,
      "metadata": {
        "id": "7qvV4tQF-AIu"
      },
      "outputs": [],
      "source": [
        "attributes = pd.read_csv('data/raw/split/list_attr_cloth.txt', delim_whitespace=True, skiprows=1)"
      ]
    },
    {
      "cell_type": "code",
      "execution_count": 9,
      "metadata": {
        "id": "FJyn0YKC-Nei"
      },
      "outputs": [],
      "source": [
        "attribute_mapping  = {i: attr for i, attr in enumerate(attributes.attribute_name, start=0)}"
      ]
    },
    {
      "cell_type": "code",
      "execution_count": 10,
      "metadata": {
        "id": "pUWmGlO1wlM5"
      },
      "outputs": [],
      "source": [
        "# Define paths\n",
        "image_dir = 'data/raw'\n",
        "train_image_path = 'data/raw/split/train.txt'\n",
        "train_attr_path = 'data/raw/split/train_attr.txt'\n",
        "val_image_path = 'data/raw/split/val.txt'\n",
        "val_attr_path = 'data/raw/split/val_attr.txt'\n",
        "test_image_path = 'data/raw/split/test.txt'\n",
        "\n",
        "# Load the training image paths\n",
        "with open(train_image_path, 'r') as f:\n",
        "    train_image_paths = [line.strip() for line in f.readlines()]\n",
        "\n",
        "# Load the training labels\n",
        "with open(train_attr_path, 'r') as f:\n",
        "    train_labels = [list(map(int, line.strip().split())) for line in f.readlines()]\n",
        "\n",
        "# Load the validation image paths\n",
        "with open(val_image_path, 'r') as f:\n",
        "    val_image_paths = [line.strip() for line in f.readlines()]\n",
        "\n",
        "# Load the validation labels\n",
        "with open(val_attr_path, 'r') as f:\n",
        "    val_labels = [list(map(int, line.strip().split())) for line in f.readlines()]\n",
        "\n",
        "# Load the testing image paths\n",
        "with open(test_image_path, 'r') as f:\n",
        "    test_image_paths = [line.strip() for line in f.readlines()]"
      ]
    },
    {
      "cell_type": "code",
      "source": [
        "# Saving the labels\n",
        "\n",
        "np.save('data/processed/train/train_labels.npy', train_labels)\n",
        "np.save('data/processed/val/val_labels.npy', val_labels)"
      ],
      "metadata": {
        "id": "meRNtZCzmoIt"
      },
      "execution_count": 11,
      "outputs": []
    },
    {
      "cell_type": "code",
      "source": [
        "# Arranging the paths\n",
        "\n",
        "train_image_paths = [os.path.join(image_dir, image_path) for image_path in train_image_paths]\n",
        "val_image_paths = [os.path.join(image_dir, image_path) for image_path in val_image_paths]\n",
        "test_image_paths = [os.path.join(image_dir, image_path) for image_path in test_image_paths]"
      ],
      "metadata": {
        "id": "tqcVZlyuiBlc"
      },
      "execution_count": 12,
      "outputs": []
    },
    {
      "cell_type": "markdown",
      "source": [
        "## Feature Extraction"
      ],
      "metadata": {
        "id": "0FqrTUiKeHVJ"
      }
    },
    {
      "cell_type": "code",
      "source": [
        "# Extracting training data features and saving it at data/processed/train\n",
        "\n",
        "train_data_features = feature_extractor(\n",
        "    data=train_image_paths,\n",
        "    image_size=IMAGE_SIZE,\n",
        "    base_model=BASE_MODEL)\n",
        "\n",
        "train_data_features = np.array(train_data_features)\n",
        "\n",
        "print(\"Train data features features\", train_data_features.shape)\n",
        "np.save('data/processed/train/train_data_features.npy', train_data_features)\n",
        "print('Training data features saved at data/processed/train/train_data_features.npy')"
      ],
      "metadata": {
        "id": "sxJShXi6eHI5"
      },
      "execution_count": null,
      "outputs": []
    },
    {
      "cell_type": "code",
      "source": [
        "# Extracting validation data features and saving it at data/processed/val\n",
        "\n",
        "val_data_features = feature_extractor(\n",
        "    data=val_image_paths,\n",
        "    image_size=IMAGE_SIZE,\n",
        "    base_model=BASE_MODEL)\n",
        "\n",
        "val_data_features = np.array(val_data_features)\n",
        "\n",
        "print(\"Train data features features\", val_data_features.shape)\n",
        "np.save('data/processed/val/val_data_features.npy', val_data_features)\n",
        "print('Training data features saved at data/processed/val/val_data_features.npy')"
      ],
      "metadata": {
        "colab": {
          "base_uri": "https://localhost:8080/",
          "height": 84,
          "referenced_widgets": [
            "98aa4fdf05aa439b9e579ed991475961",
            "1f88f8281c83485ba579a240287a76c5",
            "8825ba8a046044a6a20da66ab7cdb0fd",
            "23465917b2344f55bd008724d77ad872",
            "b6003e320a5642f4b4b721255f9ada4e",
            "6b8e4d26733141208c9cc451c33b769f",
            "a1410fbbcff14b18b90fae253228abe6",
            "c83bc703ce3440779b672cb76e4e19b4",
            "329d3f7eecca4868928f15ef5afc3737",
            "7e2982b982ca4a7aa44338b322ff82bc",
            "0666a9c09dcd4df7bb650bb6274ae92e"
          ]
        },
        "id": "V05z45fYiuGv",
        "outputId": "bd5ce8bc-3edc-4614-9ae2-987b7bdd8731"
      },
      "execution_count": 13,
      "outputs": [
        {
          "output_type": "display_data",
          "data": {
            "text/plain": [
              "Retrieving features:   0%|          | 0/1000 [00:00<?, ?it/s]"
            ],
            "application/vnd.jupyter.widget-view+json": {
              "version_major": 2,
              "version_minor": 0,
              "model_id": "98aa4fdf05aa439b9e579ed991475961"
            }
          },
          "metadata": {}
        },
        {
          "output_type": "stream",
          "name": "stdout",
          "text": [
            "Train data features features (1000, 51200)\n",
            "Training data features saved at data/processed/val/val_data_features.npy\n"
          ]
        }
      ]
    },
    {
      "cell_type": "code",
      "source": [
        "# Extracting testing data features and saving it at data/processed/val\n",
        "\n",
        "test_data_features = feature_extractor(\n",
        "    data=test_image_paths,\n",
        "    image_size=IMAGE_SIZE,\n",
        "    base_model=BASE_MODEL)\n",
        "\n",
        "test_data_features = np.array(test_data_features)\n",
        "\n",
        "print(\"Train data features features\", test_data_features.shape)\n",
        "np.save('data/processed/test/test_data_features.npy', test_data_features)\n",
        "print('Training data features saved at data/processed/test/test_data_features.npy')"
      ],
      "metadata": {
        "colab": {
          "base_uri": "https://localhost:8080/",
          "height": 84,
          "referenced_widgets": [
            "edf597b7fc224c87ac33db0b1691bfe2",
            "14746fdaa85e4c4e89774003c25d79cc",
            "284be613665f4e488f82b30e7b06cdf3",
            "e584573c665640069cd91d3bac2b58a2",
            "8cd6b710a55b4388bf75b3a238109bbd",
            "0f102428ebad4b63841ddfa25808fe7b",
            "043f6b1a9ff94df490167f1f49024d97",
            "60b73d657e524a2b8f3429f8bdf0a389",
            "37345f7352924cbeb26a6a07dee4d66f",
            "f4928da4148d4b679bce26654427ae7a",
            "226dd81a67ec420ea5db1fcd720b19c7"
          ]
        },
        "id": "P5_xnKNl7TAH",
        "outputId": "59dc41e7-792a-4971-9e6c-56fbf2e60e7e"
      },
      "execution_count": 14,
      "outputs": [
        {
          "data": {
            "application/vnd.jupyter.widget-view+json": {
              "model_id": "edf597b7fc224c87ac33db0b1691bfe2",
              "version_major": 2,
              "version_minor": 0
            },
            "text/plain": [
              "Retrieving features:   0%|          | 0/1000 [00:00<?, ?it/s]"
            ]
          },
          "metadata": {},
          "output_type": "display_data"
        },
        {
          "output_type": "stream",
          "name": "stdout",
          "text": [
            "Train data features features (1000, 51200)\n",
            "Training data features saved at data/processed/test/test_data_features.npy\n"
          ]
        }
      ]
    },
    {
      "cell_type": "markdown",
      "source": [
        "# Output 0"
      ],
      "metadata": {
        "id": "4hs8vjeaDFJd"
      }
    },
    {
      "cell_type": "markdown",
      "source": [
        "## Loading Features and Labels"
      ],
      "metadata": {
        "id": "uMGzS3HJDFJo"
      }
    },
    {
      "cell_type": "code",
      "source": [
        "train_data_features = np.load('data/processed/train/train_data_features.npy')\n",
        "train_data_labels = np.load('data/processed/train/train_labels.npy')\n",
        "\n",
        "val_data_features = np.load('data/processed/val/val_data_features.npy')\n",
        "val_data_labels = np.load('data/processed/val/val_labels.npy')"
      ],
      "metadata": {
        "id": "En9HEXL8DFJo"
      },
      "execution_count": 15,
      "outputs": []
    },
    {
      "cell_type": "code",
      "source": [
        "N = 0 # Choosing which label to work with\n",
        "\n",
        "train_data_labels_n = train_data_labels[:, N]\n",
        "print(\"Training distribution:\", Counter(train_data_labels_n))\n",
        "\n",
        "val_data_labels_n = val_data_labels[:, N]\n",
        "print(\"Validation distribution:\", Counter(val_data_labels_n))"
      ],
      "metadata": {
        "colab": {
          "base_uri": "https://localhost:8080/"
        },
        "outputId": "e8294375-3da3-4907-9390-16ec0bdadae4",
        "id": "dt3Lk8V1DFJp"
      },
      "execution_count": 16,
      "outputs": [
        {
          "output_type": "stream",
          "name": "stdout",
          "text": [
            "Training distribution: Counter({5: 2408, 1: 853, 0: 768, 3: 422, 2: 334, 4: 109, 6: 106})\n",
            "Validation distribution: Counter({5: 458, 0: 192, 1: 175, 3: 77, 2: 65, 6: 20, 4: 13})\n"
          ]
        }
      ]
    },
    {
      "cell_type": "markdown",
      "source": [
        "## Balancing training dataset"
      ],
      "metadata": {
        "id": "wibm1jalDFJp"
      }
    },
    {
      "cell_type": "code",
      "source": [
        "# Set the target number of samples for each class\n",
        "target_samples = 1000\n",
        "\n",
        "# Upsampling Minority classes using SMOTE\n",
        "smote = SMOTE(sampling_strategy={\n",
        "    0: 1000,\n",
        "    1: 2000,\n",
        "    2: 1000,\n",
        "    3: 1000,\n",
        "    4: 1000,\n",
        "    6: 1000\n",
        "})\n",
        "\n",
        "oversampled_features, oversampled_labels = smote.fit_resample(train_data_features, train_data_labels_n)\n",
        "\n",
        "# Downsample the majority class using RandomUnderSampler\n",
        "undersampler = RandomUnderSampler(sampling_strategy={\n",
        "    5: 2400\n",
        "})\n",
        "\n",
        "undersampled_features, undersampled_labels = undersampler.fit_resample(oversampled_features, oversampled_labels)\n",
        "\n",
        "print(\"Class distribution after balancing:\", Counter(undersampled_labels))\n",
        "print(\"Shape of oversampled features:\", undersampled_labels.shape)\n",
        "print(\"Shape of oversampled labels:\", undersampled_labels.shape)"
      ],
      "metadata": {
        "colab": {
          "base_uri": "https://localhost:8080/"
        },
        "outputId": "a628c4f3-868a-4b34-efba-5e2ae6d1c0dc",
        "id": "7E2aufw2DFJp"
      },
      "execution_count": 17,
      "outputs": [
        {
          "output_type": "stream",
          "name": "stdout",
          "text": [
            "Class distribution after balancing: Counter({5: 2400, 1: 2000, 0: 1000, 2: 1000, 3: 1000, 4: 1000, 6: 1000})\n",
            "Shape of oversampled features: (9400,)\n",
            "Shape of oversampled labels: (9400,)\n"
          ]
        }
      ]
    },
    {
      "cell_type": "markdown",
      "source": [
        "## Training"
      ],
      "metadata": {
        "id": "chRswTwxDFJq"
      }
    },
    {
      "cell_type": "code",
      "source": [
        "input = Input(shape=(val_data_features.shape[1],))\n",
        "x = Dense(512)(input)\n",
        "x = BatchNormalization()(x)\n",
        "x = Dropout(0.2)(x)\n",
        "x = ReLU()(x)\n",
        "\n",
        "x = Dense(256)(x)\n",
        "x = BatchNormalization()(x)\n",
        "x = Dropout(0.2)(x)\n",
        "x = ReLU()(x)\n",
        "\n",
        "x = Dense(128)(x)\n",
        "x = BatchNormalization()(x)\n",
        "x = Dropout(0.2)(x)\n",
        "x = ReLU()(x)\n",
        "\n",
        "output = Dense(len(np.unique(train_data_labels_n)), activation='softmax', name=f'category_{1}_output')(x)\n",
        "\n",
        "model = Model(inputs=[input], outputs=[output])\n",
        "\n",
        "# Compile the model\n",
        "model.compile(optimizer='adam',\n",
        "              loss='sparse_categorical_crossentropy',\n",
        "              metrics=['accuracy'])\n",
        "num_trainable_params = model.count_params()\n",
        "print(\"Number of trainable parameters:\", num_trainable_params)"
      ],
      "metadata": {
        "id": "p8K1uvRDDFJq",
        "colab": {
          "base_uri": "https://localhost:8080/"
        },
        "outputId": "03a6f9bc-4286-4c5a-96f7-e3686b95852e"
      },
      "execution_count": 42,
      "outputs": [
        {
          "output_type": "stream",
          "name": "stdout",
          "text": [
            "Number of trainable parameters: 26383623\n"
          ]
        }
      ]
    },
    {
      "cell_type": "code",
      "source": [],
      "metadata": {
        "id": "AVrHnWKKGrGH"
      },
      "execution_count": null,
      "outputs": []
    },
    {
      "cell_type": "code",
      "source": [
        "history = model.fit(\n",
        "    undersampled_features, undersampled_labels,\n",
        "    epochs=20,\n",
        "    batch_size=32,\n",
        "    validation_data = (val_data_features, val_data_labels_n)\n",
        ")"
      ],
      "metadata": {
        "colab": {
          "base_uri": "https://localhost:8080/",
          "height": 211
        },
        "outputId": "dc144556-093a-401d-d599-91b244f94e43",
        "id": "zP0GwuDhDFJq"
      },
      "execution_count": 1,
      "outputs": [
        {
          "output_type": "error",
          "ename": "NameError",
          "evalue": "name 'model' is not defined",
          "traceback": [
            "\u001b[0;31m---------------------------------------------------------------------------\u001b[0m",
            "\u001b[0;31mNameError\u001b[0m                                 Traceback (most recent call last)",
            "\u001b[0;32m<ipython-input-1-06a21ce3f775>\u001b[0m in \u001b[0;36m<cell line: 1>\u001b[0;34m()\u001b[0m\n\u001b[0;32m----> 1\u001b[0;31m history = model.fit(\n\u001b[0m\u001b[1;32m      2\u001b[0m     \u001b[0mundersampled_features\u001b[0m\u001b[0;34m,\u001b[0m \u001b[0mundersampled_labels\u001b[0m\u001b[0;34m,\u001b[0m\u001b[0;34m\u001b[0m\u001b[0;34m\u001b[0m\u001b[0m\n\u001b[1;32m      3\u001b[0m     \u001b[0mepochs\u001b[0m\u001b[0;34m=\u001b[0m\u001b[0;36m20\u001b[0m\u001b[0;34m,\u001b[0m\u001b[0;34m\u001b[0m\u001b[0;34m\u001b[0m\u001b[0m\n\u001b[1;32m      4\u001b[0m     \u001b[0mbatch_size\u001b[0m\u001b[0;34m=\u001b[0m\u001b[0;36m32\u001b[0m\u001b[0;34m,\u001b[0m\u001b[0;34m\u001b[0m\u001b[0;34m\u001b[0m\u001b[0m\n\u001b[1;32m      5\u001b[0m     \u001b[0mvalidation_data\u001b[0m \u001b[0;34m=\u001b[0m \u001b[0;34m(\u001b[0m\u001b[0mval_data_features\u001b[0m\u001b[0;34m,\u001b[0m \u001b[0mval_data_labels_n\u001b[0m\u001b[0;34m)\u001b[0m\u001b[0;34m\u001b[0m\u001b[0;34m\u001b[0m\u001b[0m\n",
            "\u001b[0;31mNameError\u001b[0m: name 'model' is not defined"
          ]
        }
      ]
    },
    {
      "cell_type": "code",
      "source": [
        "from google.colab import drive\n",
        "drive.mount('/content/drive')"
      ],
      "metadata": {
        "colab": {
          "base_uri": "https://localhost:8080/"
        },
        "id": "s6S5JgGZI9ST",
        "outputId": "2c727fcd-5852-408e-f012-832841982d4e"
      },
      "execution_count": 3,
      "outputs": [
        {
          "output_type": "stream",
          "name": "stdout",
          "text": [
            "Drive already mounted at /content/drive; to attempt to forcibly remount, call drive.mount(\"/content/drive\", force_remount=True).\n"
          ]
        }
      ]
    },
    {
      "cell_type": "code",
      "source": [
        "r = pd.DataFrame(history.history)\n",
        "fig, ax = plt.subplots(1, 2, figsize=(15, 5))\n",
        "ax[0].plot(r.index, r['loss'], label='Train loss')\n",
        "ax[0].plot(r.index, r['val_loss'], label='Validation loss')\n",
        "ax[1].plot(r.index, r['accuracy'], label='Train accuracy')\n",
        "ax[1].plot(r.index, r['val_accuracy'], label='Validation accuracy')\n",
        "ax[0].legend()\n",
        "ax[1].legend()\n",
        "plt.show()"
      ],
      "metadata": {
        "colab": {
          "base_uri": "https://localhost:8080/",
          "height": 319
        },
        "outputId": "91c22e70-9575-441b-fb73-9098b2dfac62",
        "id": "ljuG9UffDFJq"
      },
      "execution_count": 29,
      "outputs": [
        {
          "output_type": "display_data",
          "data": {
            "text/plain": [
              "<Figure size 1500x500 with 2 Axes>"
            ],
            "image/png": "[encoded data removed]"
          },
          "metadata": {}
        }
      ]
    },
    {
      "cell_type": "markdown",
      "source": [
        "## Saving checkpoints and Metrics"
      ],
      "metadata": {
        "id": "ALw1iLzfki0B"
      }
    },
    {
      "cell_type": "code",
      "source": [
        "model.save('models/model/model_0.h5')"
      ],
      "metadata": {
        "colab": {
          "base_uri": "https://localhost:8080/"
        },
        "id": "lTal5_ymjBmy",
        "outputId": "5deeae6f-1e3e-4a5e-da2f-ae7fefd57b02"
      },
      "execution_count": 35,
      "outputs": [
        {
          "output_type": "stream",
          "name": "stderr",
          "text": [
            "/usr/local/lib/python3.10/dist-packages/keras/src/engine/training.py:3103: UserWarning: You are saving your model as an HDF5 file via `model.save()`. This file format is considered legacy. We recommend using instead the native Keras format, e.g. `model.save('my_model.keras')`.\n",
            "  saving_api.save_model(\n"
          ]
        }
      ]
    },
    {
      "cell_type": "code",
      "source": [
        "r.to_csv('data/reports/metrics/metrics_0.csv', index=False)"
      ],
      "metadata": {
        "id": "sngymI1RjBbq"
      },
      "execution_count": 39,
      "outputs": []
    },
    {
      "cell_type": "markdown",
      "source": [
        "## Evaluation"
      ],
      "metadata": {
        "id": "4kjhcXFlDFJr"
      }
    },
    {
      "cell_type": "code",
      "source": [
        "y_pred = model.predict(val_data_features)\n",
        "y_pred = np.argmax(y_pred, axis=1)"
      ],
      "metadata": {
        "colab": {
          "base_uri": "https://localhost:8080/"
        },
        "outputId": "3895eab4-64ea-4e72-c7fd-4b0215a68358",
        "id": "JFXMQdovDFJr"
      },
      "execution_count": 40,
      "outputs": [
        {
          "output_type": "stream",
          "name": "stdout",
          "text": [
            "32/32 [==============================] - 0s 5ms/step\n"
          ]
        }
      ]
    },
    {
      "cell_type": "code",
      "source": [
        "# Calculate precision, recall, and F1 score\n",
        "accuracy = accuracy_score(val_data_labels_n, y_pred)\n",
        "precision = precision_score(val_data_labels_n, y_pred, average='weighted')\n",
        "recall = recall_score(val_data_labels_n, y_pred, average='weighted')\n",
        "f1 = f1_score(val_data_labels_n, y_pred, average='weighted')\n",
        "\n",
        "# Print the results\n",
        "print('Accuracy:', accuracy)\n",
        "print('Precision:', precision)\n",
        "print('Recall:', recall)\n",
        "print('F1 score:', f1)"
      ],
      "metadata": {
        "colab": {
          "base_uri": "https://localhost:8080/"
        },
        "outputId": "148df6c1-938c-42ca-8277-3567ba72c0c5",
        "id": "Qo57SZXKDFJr"
      },
      "execution_count": 32,
      "outputs": [
        {
          "output_type": "stream",
          "name": "stdout",
          "text": [
            "Accuracy: 0.687\n",
            "Precision: 0.6816070025458255\n",
            "Recall: 0.687\n",
            "F1 score: 0.6813609541348578\n"
          ]
        }
      ]
    },
    {
      "cell_type": "code",
      "source": [
        "print(classification_report(val_data_labels_n, y_pred))"
      ],
      "metadata": {
        "colab": {
          "base_uri": "https://localhost:8080/"
        },
        "outputId": "503237b6-1f02-41cb-be29-8f3d3fae55d5",
        "id": "hSIX0sl2DFJr"
      },
      "execution_count": 33,
      "outputs": [
        {
          "output_type": "stream",
          "name": "stdout",
          "text": [
            "              precision    recall  f1-score   support\n",
            "\n",
            "           0       0.64      0.64      0.64       192\n",
            "           1       0.54      0.50      0.52       175\n",
            "           2       0.74      0.60      0.66        65\n",
            "           3       0.39      0.45      0.42        77\n",
            "           4       0.00      0.00      0.00        13\n",
            "           5       0.82      0.87      0.85       458\n",
            "           6       0.50      0.15      0.23        20\n",
            "\n",
            "    accuracy                           0.69      1000\n",
            "   macro avg       0.52      0.46      0.47      1000\n",
            "weighted avg       0.68      0.69      0.68      1000\n",
            "\n"
          ]
        }
      ]
    },
    {
      "cell_type": "markdown",
      "source": [
        "## Retrieving"
      ],
      "metadata": {
        "id": "NjcG4q_gVaie"
      }
    },
    {
      "cell_type": "code",
      "source": [
        "test_data_features = np.load('data/processed/test/test_data_features.npy')\n",
        "\n",
        "predictions = model.predict(test_data_features)\n",
        "\n",
        "np.save('data/processed/test/output_0.npy', predictions)"
      ],
      "metadata": {
        "colab": {
          "base_uri": "https://localhost:8080/"
        },
        "id": "GxCIW0CzVaIx",
        "outputId": "cef35585-0aaf-4357-ee61-e06dc53caa7f"
      },
      "execution_count": 34,
      "outputs": [
        {
          "output_type": "stream",
          "name": "stdout",
          "text": [
            "32/32 [==============================] - 0s 5ms/step\n"
          ]
        }
      ]
    },
    {
      "cell_type": "markdown",
      "source": [
        "# Output 1"
      ],
      "metadata": {
        "id": "LCsi7cFgwn5v"
      }
    },
    {
      "cell_type": "markdown",
      "source": [
        "## Loading Features and Labels"
      ],
      "metadata": {
        "id": "7rUU5L52wn5w"
      }
    },
    {
      "cell_type": "code",
      "source": [
        "train_data_features = np.load('data/processed/train/train_data_features.npy')\n",
        "train_data_labels = np.load('data/processed/train/train_labels.npy')\n",
        "\n",
        "val_data_features = np.load('data/processed/val/val_data_features.npy')\n",
        "val_data_labels = np.load('data/processed/val/val_labels.npy')"
      ],
      "metadata": {
        "id": "4S4-6zlAwn5w"
      },
      "execution_count": 14,
      "outputs": []
    },
    {
      "cell_type": "code",
      "source": [
        "N = 1 # Choosing which label to work with\n",
        "\n",
        "train_data_labels_n = train_data_labels[:, N]\n",
        "print(\"Training distribution:\", Counter(train_data_labels_n))\n",
        "\n",
        "val_data_labels_n = val_data_labels[:, N]\n",
        "print(\"Validation distribution:\", Counter(val_data_labels_n))"
      ],
      "metadata": {
        "colab": {
          "base_uri": "https://localhost:8080/"
        },
        "outputId": "6219f3ba-8e37-435a-9347-25153d98df36",
        "id": "r8lNNr0Dwn5w"
      },
      "execution_count": 15,
      "outputs": [
        {
          "output_type": "stream",
          "name": "stdout",
          "text": [
            "Training distribution: Counter({2: 2615, 0: 1523, 1: 862})\n",
            "Validation distribution: Counter({2: 531, 0: 301, 1: 168})\n"
          ]
        }
      ]
    },
    {
      "cell_type": "markdown",
      "source": [
        "## Balancing training dataset"
      ],
      "metadata": {
        "id": "GUmYK073wn5x"
      }
    },
    {
      "cell_type": "code",
      "source": [
        "# Set the target number of samples for each class\n",
        "target_samples = 1000\n",
        "\n",
        "# Upsampling Minority classes using SMOTE\n",
        "smote = SMOTE(sampling_strategy={\n",
        "    1: 4000,\n",
        "})\n",
        "\n",
        "oversampled_features, oversampled_labels = smote.fit_resample(train_data_features, train_data_labels_n)\n",
        "\n",
        "# Downsample the majority class using RandomUnderSampler\n",
        "undersampler = RandomUnderSampler(sampling_strategy={\n",
        "    2: 2600\n",
        "})\n",
        "\n",
        "undersampled_features, undersampled_labels = undersampler.fit_resample(oversampled_features, oversampled_labels)\n",
        "\n",
        "print(\"Class distribution after balancing:\", Counter(undersampled_labels))\n",
        "print(\"Shape of oversampled features:\", undersampled_labels.shape)\n",
        "print(\"Shape of oversampled labels:\", undersampled_labels.shape)"
      ],
      "metadata": {
        "colab": {
          "base_uri": "https://localhost:8080/"
        },
        "outputId": "42c89b22-c127-493b-bc7b-6fd4eb3da205",
        "id": "VYzfILokwn5x"
      },
      "execution_count": 16,
      "outputs": [
        {
          "output_type": "stream",
          "name": "stderr",
          "text": [
            "/usr/local/lib/python3.10/dist-packages/imblearn/utils/_validation.py:313: UserWarning: After over-sampling, the number of samples (4000) in class 1 will be larger than the number of samples in the majority class (class #2 -> 2615)\n",
            "  warnings.warn(\n"
          ]
        },
        {
          "output_type": "stream",
          "name": "stdout",
          "text": [
            "Class distribution after balancing: Counter({1: 4000, 2: 2600, 0: 1523})\n",
            "Shape of oversampled features: (8123,)\n",
            "Shape of oversampled labels: (8123,)\n"
          ]
        }
      ]
    },
    {
      "cell_type": "markdown",
      "source": [
        "## Training"
      ],
      "metadata": {
        "id": "spc7RAaewn5x"
      }
    },
    {
      "cell_type": "code",
      "source": [
        "input = Input(shape=(val_data_features.shape[1],))\n",
        "x = Dense(512)(input)\n",
        "x = BatchNormalization()(x)\n",
        "x = Dropout(0.2)(x)\n",
        "x = ReLU()(x)\n",
        "\n",
        "x = Dense(256)(x)\n",
        "x = BatchNormalization()(x)\n",
        "x = Dropout(0.2)(x)\n",
        "x = ReLU()(x)\n",
        "\n",
        "x = Dense(128)(x)\n",
        "x = BatchNormalization()(x)\n",
        "x = Dropout(0.2)(x)\n",
        "x = ReLU()(x)\n",
        "\n",
        "output = Dense(len(np.unique(train_data_labels_n)), activation='softmax', name=f'category_{1}_output')(x)\n",
        "\n",
        "model = Model(inputs=[input], outputs=[output])\n",
        "\n",
        "# Compile the model\n",
        "model.compile(optimizer='adam',\n",
        "              loss='sparse_categorical_crossentropy',\n",
        "              metrics=['accuracy'])"
      ],
      "metadata": {
        "id": "NvD5yOfvwn5y"
      },
      "execution_count": 17,
      "outputs": []
    },
    {
      "cell_type": "code",
      "source": [
        "history = model.fit(\n",
        "    undersampled_features, undersampled_labels,\n",
        "    epochs=20,\n",
        "    batch_size=32,\n",
        "    validation_data = (val_data_features, val_data_labels_n)\n",
        ")"
      ],
      "metadata": {
        "colab": {
          "base_uri": "https://localhost:8080/"
        },
        "outputId": "8f7aeec5-7c9a-471e-c3aa-071c04adf5e4",
        "id": "plusNSQBwn5y"
      },
      "execution_count": null,
      "outputs": [
        {
          "output_type": "stream",
          "name": "stdout",
          "text": [
            "Epoch 1/20\n",
            "254/254 [==============================] - 19s 23ms/step - loss: 0.5242 - accuracy: 0.7934 - val_loss: 0.5448 - val_accuracy: 0.7730\n",
            "Epoch 2/20\n",
            "254/254 [==============================] - 4s 17ms/step - loss: 0.2018 - accuracy: 0.9281 - val_loss: 0.5838 - val_accuracy: 0.7950\n",
            "Epoch 3/20\n",
            "254/254 [==============================] - 4s 16ms/step - loss: 0.1166 - accuracy: 0.9593 - val_loss: 0.6360 - val_accuracy: 0.8040\n",
            "Epoch 4/20\n",
            "254/254 [==============================] - 5s 19ms/step - loss: 0.0757 - accuracy: 0.9724 - val_loss: 0.7088 - val_accuracy: 0.8100\n",
            "Epoch 5/20\n",
            "254/254 [==============================] - 4s 17ms/step - loss: 0.0576 - accuracy: 0.9812 - val_loss: 0.9751 - val_accuracy: 0.7660\n",
            "Epoch 6/20\n",
            "254/254 [==============================] - 4s 16ms/step - loss: 0.0550 - accuracy: 0.9804 - val_loss: 0.8356 - val_accuracy: 0.7900\n",
            "Epoch 7/20\n",
            "254/254 [==============================] - 5s 20ms/step - loss: 0.0592 - accuracy: 0.9801 - val_loss: 0.8380 - val_accuracy: 0.8030\n",
            "Epoch 8/20\n",
            "254/254 [==============================] - 4s 17ms/step - loss: 0.0397 - accuracy: 0.9863 - val_loss: 0.7991 - val_accuracy: 0.8190\n",
            "Epoch 9/20\n",
            "254/254 [==============================] - 4s 17ms/step - loss: 0.0377 - accuracy: 0.9868 - val_loss: 0.9423 - val_accuracy: 0.7920\n",
            "Epoch 10/20\n",
            "254/254 [==============================] - 5s 19ms/step - loss: 0.0255 - accuracy: 0.9906 - val_loss: 0.9585 - val_accuracy: 0.7920\n",
            "Epoch 11/20\n",
            " 96/254 [==========>...................] - ETA: 2s - loss: 0.0392 - accuracy: 0.9876"
          ]
        }
      ]
    },
    {
      "cell_type": "code",
      "source": [
        "r = pd.DataFrame(history.history)\n",
        "fig, ax = plt.subplots(1, 2, figsize=(15, 5))\n",
        "ax[0].plot(r.index, r['loss'], label='Train loss')\n",
        "ax[0].plot(r.index, r['val_loss'], label='Validation loss')\n",
        "ax[1].plot(r.index, r['accuracy'], label='Train accuracy')\n",
        "ax[1].plot(r.index, r['val_accuracy'], label='Validation accuracy')\n",
        "ax[0].legend()\n",
        "ax[1].legend()\n",
        "plt.show()"
      ],
      "metadata": {
        "id": "VB-aswUCwn5y"
      },
      "execution_count": null,
      "outputs": []
    },
    {
      "cell_type": "markdown",
      "source": [
        "## Saving checkpoints and Metrics"
      ],
      "metadata": {
        "id": "eiZV4H0OkwY9"
      }
    },
    {
      "cell_type": "code",
      "source": [
        "model.save('models/model/model_1.h5')"
      ],
      "metadata": {
        "id": "tq4bO49JkwZH"
      },
      "execution_count": null,
      "outputs": []
    },
    {
      "cell_type": "code",
      "source": [
        "r.to_csv('data/reports/metrics/metrics_1.csv', index=False)"
      ],
      "metadata": {
        "id": "_XLsUHVnkwZH"
      },
      "execution_count": null,
      "outputs": []
    },
    {
      "cell_type": "markdown",
      "source": [
        "## Evaluation"
      ],
      "metadata": {
        "id": "M_oR8kr0wn5y"
      }
    },
    {
      "cell_type": "code",
      "source": [
        "y_pred = model.predict(val_data_features)\n",
        "y_pred = np.argmax(y_pred, axis=1)"
      ],
      "metadata": {
        "id": "66OZUVhSwn5z"
      },
      "execution_count": null,
      "outputs": []
    },
    {
      "cell_type": "code",
      "source": [
        "# Calculate precision, recall, and F1 score\n",
        "accuracy = accuracy_score(val_data_labels_n, y_pred)\n",
        "precision = precision_score(val_data_labels_n, y_pred, average='weighted')\n",
        "recall = recall_score(val_data_labels_n, y_pred, average='weighted')\n",
        "f1 = f1_score(val_data_labels_n, y_pred, average='weighted')\n",
        "\n",
        "# Print the results\n",
        "print('Accuracy:', accuracy)\n",
        "print('Precision:', precision)\n",
        "print('Recall:', recall)\n",
        "print('F1 score:', f1)"
      ],
      "metadata": {
        "id": "_tjm8s8hwn5z"
      },
      "execution_count": null,
      "outputs": []
    },
    {
      "cell_type": "code",
      "source": [
        "print(classification_report(val_data_labels_n, y_pred))"
      ],
      "metadata": {
        "id": "9p5_Bh26wn5z"
      },
      "execution_count": null,
      "outputs": []
    },
    {
      "cell_type": "markdown",
      "source": [
        "## Retrieving"
      ],
      "metadata": {
        "id": "FSW-sz7IWrGa"
      }
    },
    {
      "cell_type": "code",
      "source": [
        "test_data_features = np.load('data/processed/test/test_data_features.npy')\n",
        "\n",
        "predictions = model.predict(test_data_features)\n",
        "\n",
        "np.save('data/processed/test/output_1.npy', predictions)"
      ],
      "metadata": {
        "id": "1UBoUMmlGfm_"
      },
      "execution_count": null,
      "outputs": []
    },
    {
      "cell_type": "markdown",
      "source": [
        "# Output 2"
      ],
      "metadata": {
        "id": "mjfZNRFwpV6a"
      }
    },
    {
      "cell_type": "markdown",
      "source": [
        "## Loading Features and Labels"
      ],
      "metadata": {
        "id": "WYFd4IyupV6z"
      }
    },
    {
      "cell_type": "code",
      "source": [
        "train_data_features = np.load('data/processed/train/train_data_features.npy')\n",
        "train_data_labels = np.load('data/processed/train/train_labels.npy')\n",
        "\n",
        "val_data_features = np.load('data/processed/val/val_data_features.npy')\n",
        "val_data_labels = np.load('data/processed/val/val_labels.npy')"
      ],
      "metadata": {
        "id": "dARuBxrLpV60"
      },
      "execution_count": null,
      "outputs": []
    },
    {
      "cell_type": "code",
      "source": [
        "N = 2 # Choosing which label to work with\n",
        "\n",
        "train_data_labels_n = train_data_labels[:, N]\n",
        "print(\"Training distribution:\", Counter(train_data_labels_n))\n",
        "\n",
        "val_data_labels_n = val_data_labels[:, N]\n",
        "print(\"Validation distribution:\", Counter(val_data_labels_n))"
      ],
      "metadata": {
        "colab": {
          "base_uri": "https://localhost:8080/"
        },
        "outputId": "f5301847-d79c-4db1-ee22-897f878e1133",
        "id": "R3OlbienpV60"
      },
      "execution_count": null,
      "outputs": [
        {
          "output_type": "stream",
          "name": "stdout",
          "text": [
            "Training distribution: Counter({2: 3561, 1: 951, 0: 488})\n",
            "Validation distribution: Counter({2: 727, 1: 173, 0: 100})\n"
          ]
        }
      ]
    },
    {
      "cell_type": "markdown",
      "source": [
        "## Balancing training dataset"
      ],
      "metadata": {
        "id": "11Aq71I8pV61"
      }
    },
    {
      "cell_type": "code",
      "source": [
        "# Set the target number of samples for each class\n",
        "target_samples = 1000\n",
        "\n",
        "# Upsampling Minority classes using SMOTE\n",
        "smote = SMOTE(sampling_strategy={\n",
        "    0: 5500,\n",
        "    1: 3500,\n",
        "})\n",
        "\n",
        "oversampled_features, oversampled_labels = smote.fit_resample(train_data_features, train_data_labels_n)\n",
        "\n",
        "# Downsample the majority class using RandomUnderSampler\n",
        "undersampler = RandomUnderSampler(sampling_strategy={\n",
        "    2: 3000\n",
        "})\n",
        "\n",
        "undersampled_features, undersampled_labels = undersampler.fit_resample(oversampled_features, oversampled_labels)\n",
        "\n",
        "print(\"Class distribution after balancing:\", Counter(undersampled_labels))\n",
        "print(\"Shape of oversampled features:\", undersampled_labels.shape)\n",
        "print(\"Shape of oversampled labels:\", undersampled_labels.shape)"
      ],
      "metadata": {
        "colab": {
          "base_uri": "https://localhost:8080/"
        },
        "outputId": "278eedb8-1bf7-4329-cd5c-dd307924544c",
        "id": "iuwX69M8pV62"
      },
      "execution_count": null,
      "outputs": [
        {
          "output_type": "stream",
          "name": "stderr",
          "text": [
            "/usr/local/lib/python3.10/dist-packages/imblearn/utils/_validation.py:313: UserWarning: After over-sampling, the number of samples (5500) in class 0 will be larger than the number of samples in the majority class (class #2 -> 3561)\n",
            "  warnings.warn(\n"
          ]
        },
        {
          "output_type": "stream",
          "name": "stdout",
          "text": [
            "Class distribution after balancing: Counter({0: 5500, 1: 3500, 2: 3000})\n",
            "Shape of oversampled features: (12000,)\n",
            "Shape of oversampled labels: (12000,)\n"
          ]
        }
      ]
    },
    {
      "cell_type": "markdown",
      "source": [
        "## Training"
      ],
      "metadata": {
        "id": "CZQKLsrRpV62"
      }
    },
    {
      "cell_type": "code",
      "source": [
        "input = Input(shape=(val_data_features.shape[1],))\n",
        "x = Dense(512)(input)\n",
        "x = BatchNormalization()(x)\n",
        "x = Dropout(0.2)(x)\n",
        "x = ReLU()(x)\n",
        "\n",
        "x = Dense(256)(x)\n",
        "x = BatchNormalization()(x)\n",
        "x = Dropout(0.2)(x)\n",
        "x = ReLU()(x)\n",
        "\n",
        "x = Dense(128)(x)\n",
        "x = BatchNormalization()(x)\n",
        "x = Dropout(0.2)(x)\n",
        "x = ReLU()(x)\n",
        "\n",
        "output = Dense(len(np.unique(train_data_labels_n)), activation='softmax', name=f'category_{1}_output')(x)\n",
        "\n",
        "model = Model(inputs=[input], outputs=[output])\n",
        "\n",
        "# Compile the model\n",
        "model.compile(optimizer='adam',\n",
        "              loss='sparse_categorical_crossentropy',\n",
        "              metrics=['accuracy'])"
      ],
      "metadata": {
        "id": "0lffuVqQpV62"
      },
      "execution_count": null,
      "outputs": []
    },
    {
      "cell_type": "code",
      "source": [
        "history = model.fit(\n",
        "    undersampled_features, undersampled_labels,\n",
        "    epochs=20,\n",
        "    batch_size=32,\n",
        "    validation_data = (val_data_features, val_data_labels_n)\n",
        ")"
      ],
      "metadata": {
        "colab": {
          "base_uri": "https://localhost:8080/"
        },
        "outputId": "2311bea9-7c80-4001-98e1-b3945eee4880",
        "id": "1mfCYG0VpV63"
      },
      "execution_count": null,
      "outputs": [
        {
          "output_type": "stream",
          "name": "stdout",
          "text": [
            "Epoch 1/20\n",
            "375/375 [==============================] - 12s 16ms/step - loss: 0.2434 - accuracy: 0.9133 - val_loss: 0.4652 - val_accuracy: 0.8630\n",
            "Epoch 2/20\n",
            "375/375 [==============================] - 6s 15ms/step - loss: 0.0842 - accuracy: 0.9712 - val_loss: 0.5264 - val_accuracy: 0.8630\n",
            "Epoch 3/20\n",
            "375/375 [==============================] - 5s 14ms/step - loss: 0.0548 - accuracy: 0.9822 - val_loss: 0.5581 - val_accuracy: 0.8620\n",
            "Epoch 4/20\n",
            "375/375 [==============================] - 6s 15ms/step - loss: 0.0374 - accuracy: 0.9880 - val_loss: 0.6947 - val_accuracy: 0.8540\n",
            "Epoch 5/20\n",
            "375/375 [==============================] - 5s 14ms/step - loss: 0.0307 - accuracy: 0.9882 - val_loss: 0.6005 - val_accuracy: 0.8680\n",
            "Epoch 6/20\n",
            "375/375 [==============================] - 6s 15ms/step - loss: 0.0230 - accuracy: 0.9920 - val_loss: 0.6306 - val_accuracy: 0.8750\n",
            "Epoch 7/20\n",
            "375/375 [==============================] - 6s 15ms/step - loss: 0.0246 - accuracy: 0.9931 - val_loss: 0.6203 - val_accuracy: 0.8810\n",
            "Epoch 8/20\n",
            "375/375 [==============================] - 5s 14ms/step - loss: 0.0233 - accuracy: 0.9927 - val_loss: 0.6345 - val_accuracy: 0.8810\n",
            "Epoch 9/20\n",
            "375/375 [==============================] - 6s 16ms/step - loss: 0.0165 - accuracy: 0.9940 - val_loss: 0.7153 - val_accuracy: 0.8720\n",
            "Epoch 10/20\n",
            "375/375 [==============================] - 5s 14ms/step - loss: 0.0173 - accuracy: 0.9941 - val_loss: 0.8143 - val_accuracy: 0.8390\n",
            "Epoch 11/20\n",
            "375/375 [==============================] - 6s 16ms/step - loss: 0.0201 - accuracy: 0.9929 - val_loss: 0.8831 - val_accuracy: 0.8400\n",
            "Epoch 12/20\n",
            "375/375 [==============================] - 5s 14ms/step - loss: 0.0153 - accuracy: 0.9952 - val_loss: 0.7641 - val_accuracy: 0.8610\n",
            "Epoch 13/20\n",
            "375/375 [==============================] - 6s 16ms/step - loss: 0.0106 - accuracy: 0.9967 - val_loss: 0.8084 - val_accuracy: 0.8590\n",
            "Epoch 14/20\n",
            "375/375 [==============================] - 5s 14ms/step - loss: 0.0123 - accuracy: 0.9961 - val_loss: 0.7580 - val_accuracy: 0.8610\n",
            "Epoch 15/20\n",
            "375/375 [==============================] - 5s 14ms/step - loss: 0.0116 - accuracy: 0.9960 - val_loss: 0.7867 - val_accuracy: 0.8600\n",
            "Epoch 16/20\n",
            "375/375 [==============================] - 6s 15ms/step - loss: 0.0135 - accuracy: 0.9960 - val_loss: 0.8265 - val_accuracy: 0.8580\n",
            "Epoch 17/20\n",
            "375/375 [==============================] - 5s 14ms/step - loss: 0.0100 - accuracy: 0.9967 - val_loss: 0.7487 - val_accuracy: 0.8630\n",
            "Epoch 18/20\n",
            "375/375 [==============================] - 6s 16ms/step - loss: 0.0113 - accuracy: 0.9955 - val_loss: 0.8447 - val_accuracy: 0.8610\n",
            "Epoch 19/20\n",
            "375/375 [==============================] - 5s 14ms/step - loss: 0.0121 - accuracy: 0.9962 - val_loss: 1.0181 - val_accuracy: 0.8530\n",
            "Epoch 20/20\n",
            "375/375 [==============================] - 6s 15ms/step - loss: 0.0097 - accuracy: 0.9970 - val_loss: 0.7994 - val_accuracy: 0.8660\n"
          ]
        }
      ]
    },
    {
      "cell_type": "code",
      "source": [
        "r = pd.DataFrame(history.history)\n",
        "fig, ax = plt.subplots(1, 2, figsize=(15, 5))\n",
        "ax[0].plot(r.index, r['loss'], label='Train loss')\n",
        "ax[0].plot(r.index, r['val_loss'], label='Validation loss')\n",
        "ax[1].plot(r.index, r['accuracy'], label='Train accuracy')\n",
        "ax[1].plot(r.index, r['val_accuracy'], label='Validation accuracy')\n",
        "ax[0].legend()\n",
        "ax[1].legend()\n",
        "plt.show()"
      ],
      "metadata": {
        "colab": {
          "base_uri": "https://localhost:8080/",
          "height": 297
        },
        "outputId": "a45d9ba5-8f7f-491a-c1dc-53720836acc3",
        "id": "9IEcWhpZpV63"
      },
      "execution_count": null,
      "outputs": [
        {
          "output_type": "display_data",
          "data": {
            "text/plain": [
              "<Figure size 1500x500 with 2 Axes>"
            ],
            "image/png": "[encoded data removed]"
          },
          "metadata": {}
        }
      ]
    },
    {
      "cell_type": "markdown",
      "source": [
        "## Saving checkpoints and Metrics"
      ],
      "metadata": {
        "id": "qCn8mIWgl_QQ"
      }
    },
    {
      "cell_type": "code",
      "source": [
        "model.save('models/model/model_2.h5')"
      ],
      "metadata": {
        "colab": {
          "base_uri": "https://localhost:8080/"
        },
        "outputId": "1258bb4b-83de-4908-e179-5a73ac477b39",
        "id": "nr9u_guLl_QZ"
      },
      "execution_count": null,
      "outputs": [
        {
          "output_type": "stream",
          "name": "stderr",
          "text": [
            "/usr/local/lib/python3.10/dist-packages/keras/src/engine/training.py:3103: UserWarning: You are saving your model as an HDF5 file via `model.save()`. This file format is considered legacy. We recommend using instead the native Keras format, e.g. `model.save('my_model.keras')`.\n",
            "  saving_api.save_model(\n"
          ]
        }
      ]
    },
    {
      "cell_type": "code",
      "source": [
        "r.to_csv('reports/metrics/metrics_2.csv', index=False)"
      ],
      "metadata": {
        "id": "aEoVPBBhl_QZ"
      },
      "execution_count": null,
      "outputs": []
    },
    {
      "cell_type": "markdown",
      "source": [
        "## Evaluation"
      ],
      "metadata": {
        "id": "1DYZRf5KpV64"
      }
    },
    {
      "cell_type": "code",
      "source": [
        "y_pred = model.predict(val_data_features)\n",
        "y_pred = np.argmax(y_pred, axis=1)"
      ],
      "metadata": {
        "colab": {
          "base_uri": "https://localhost:8080/"
        },
        "outputId": "8e92d8f6-3315-4da0-d7e0-c47a8cb020ad",
        "id": "QBY1OEYKpV64"
      },
      "execution_count": null,
      "outputs": [
        {
          "output_type": "stream",
          "name": "stdout",
          "text": [
            "32/32 [==============================] - 0s 5ms/step\n"
          ]
        }
      ]
    },
    {
      "cell_type": "code",
      "source": [
        "# Calculate precision, recall, and F1 score\n",
        "accuracy = accuracy_score(val_data_labels_n, y_pred)\n",
        "precision = precision_score(val_data_labels_n, y_pred, average='weighted')\n",
        "recall = recall_score(val_data_labels_n, y_pred, average='weighted')\n",
        "f1 = f1_score(val_data_labels_n, y_pred, average='weighted')\n",
        "\n",
        "# Print the results\n",
        "print('Accuracy:', accuracy)\n",
        "print('Precision:', precision)\n",
        "print('Recall:', recall)\n",
        "print('F1 score:', f1)"
      ],
      "metadata": {
        "colab": {
          "base_uri": "https://localhost:8080/"
        },
        "outputId": "97e21a78-9454-4b5b-d71e-a57b67feec3f",
        "id": "2iHw3rEGpV64"
      },
      "execution_count": null,
      "outputs": [
        {
          "output_type": "stream",
          "name": "stdout",
          "text": [
            "Accuracy: 0.864\n",
            "Precision: 0.8753670662184696\n",
            "Recall: 0.864\n",
            "F1 score: 0.8674978816317676\n"
          ]
        }
      ]
    },
    {
      "cell_type": "code",
      "source": [
        "print(classification_report(val_data_labels_n, y_pred))"
      ],
      "metadata": {
        "colab": {
          "base_uri": "https://localhost:8080/"
        },
        "outputId": "ab1a52a7-2e95-42a9-ef51-70ee6d852d2e",
        "id": "uEXbt9nZpV65"
      },
      "execution_count": null,
      "outputs": [
        {
          "output_type": "stream",
          "name": "stdout",
          "text": [
            "              precision    recall  f1-score   support\n",
            "\n",
            "           0       0.79      0.73      0.76       100\n",
            "           1       0.65      0.82      0.73       173\n",
            "           2       0.94      0.89      0.92       727\n",
            "\n",
            "    accuracy                           0.86      1000\n",
            "   macro avg       0.80      0.81      0.80      1000\n",
            "weighted avg       0.88      0.86      0.87      1000\n",
            "\n"
          ]
        }
      ]
    },
    {
      "cell_type": "markdown",
      "source": [
        "## Retrieving"
      ],
      "metadata": {
        "id": "nznWwno8XzlL"
      }
    },
    {
      "cell_type": "code",
      "source": [
        "test_data_features = np.load('data/processed/test/test_data_features.npy')\n",
        "\n",
        "predictions = model.predict(test_data_features)\n",
        "\n",
        "np.save('data/processed/test/output_2.npy', predictions)"
      ],
      "metadata": {
        "id": "s4r18aTTHAN9",
        "colab": {
          "base_uri": "https://localhost:8080/"
        },
        "outputId": "aadeacd6-d694-4f23-a3ff-8640acbc5060"
      },
      "execution_count": null,
      "outputs": [
        {
          "output_type": "stream",
          "name": "stdout",
          "text": [
            "32/32 [==============================] - 0s 5ms/step\n"
          ]
        }
      ]
    },
    {
      "cell_type": "markdown",
      "source": [
        "# Output 3"
      ],
      "metadata": {
        "id": "VQlFx-mf3Qmz"
      }
    },
    {
      "cell_type": "markdown",
      "source": [
        "## Loading Features and Labels"
      ],
      "metadata": {
        "id": "Bi9Puyf_3QnI"
      }
    },
    {
      "cell_type": "code",
      "source": [
        "train_data_features = np.load('data/processed/train/train_data_features.npy')\n",
        "train_data_labels = np.load('data/processed/train/train_labels.npy')\n",
        "\n",
        "val_data_features = np.load('data/processed/val/val_data_features.npy')\n",
        "val_data_labels = np.load('data/processed/val/val_labels.npy')"
      ],
      "metadata": {
        "id": "gQBtkpkQ3QnI"
      },
      "execution_count": null,
      "outputs": []
    },
    {
      "cell_type": "code",
      "source": [
        "N = 3 # Choosing which label to work with\n",
        "\n",
        "train_data_labels_n = train_data_labels[:, N]\n",
        "print(\"Training distribution:\", Counter(train_data_labels_n))\n",
        "\n",
        "val_data_labels_n = val_data_labels[:, N]\n",
        "print(\"Validation distribution:\", Counter(val_data_labels_n))"
      ],
      "metadata": {
        "colab": {
          "base_uri": "https://localhost:8080/"
        },
        "outputId": "887fcdbf-7277-4971-82f9-001657ee9682",
        "id": "HX9bVinn3QnJ"
      },
      "execution_count": null,
      "outputs": [
        {
          "output_type": "stream",
          "name": "stdout",
          "text": [
            "Training distribution: Counter({0: 2086, 3: 2069, 1: 826, 2: 19})\n",
            "Validation distribution: Counter({3: 438, 0: 387, 1: 173, 2: 2})\n"
          ]
        }
      ]
    },
    {
      "cell_type": "markdown",
      "source": [
        "## Balancing training dataset"
      ],
      "metadata": {
        "id": "Z22vEEd33QnK"
      }
    },
    {
      "cell_type": "code",
      "source": [
        "# Upsampling Minority classes using SMOTE\n",
        "smote = SMOTE(sampling_strategy={\n",
        "    2: 1000,\n",
        "    1: 3000,\n",
        "})\n",
        "\n",
        "oversampled_features, oversampled_labels = smote.fit_resample(train_data_features, train_data_labels_n)\n",
        "\n",
        "# Downsample the majority class using RandomUnderSampler\n",
        "undersampler = RandomUnderSampler(sampling_strategy={\n",
        "    0: 2000,\n",
        "    3: 2000\n",
        "})\n",
        "\n",
        "undersampled_features, undersampled_labels = undersampler.fit_resample(oversampled_features, oversampled_labels)\n",
        "\n",
        "print(\"Class distribution after balancing:\", Counter(undersampled_labels))\n",
        "print(\"Shape of oversampled features:\", undersampled_labels.shape)\n",
        "print(\"Shape of oversampled labels:\", undersampled_labels.shape)"
      ],
      "metadata": {
        "colab": {
          "base_uri": "https://localhost:8080/"
        },
        "outputId": "883c0fca-8b9f-4086-a28e-e0ca1313747a",
        "id": "2iU4AtZo3QnK"
      },
      "execution_count": null,
      "outputs": [
        {
          "output_type": "stream",
          "name": "stderr",
          "text": [
            "/usr/local/lib/python3.10/dist-packages/imblearn/utils/_validation.py:313: UserWarning: After over-sampling, the number of samples (3000) in class 1 will be larger than the number of samples in the majority class (class #0 -> 2086)\n",
            "  warnings.warn(\n"
          ]
        },
        {
          "output_type": "stream",
          "name": "stdout",
          "text": [
            "Class distribution after balancing: Counter({1: 3000, 0: 2000, 3: 2000, 2: 1000})\n",
            "Shape of oversampled features: (8000,)\n",
            "Shape of oversampled labels: (8000,)\n"
          ]
        }
      ]
    },
    {
      "cell_type": "markdown",
      "source": [
        "## Training"
      ],
      "metadata": {
        "id": "yTgoz1Qa3QnK"
      }
    },
    {
      "cell_type": "code",
      "source": [
        "input = Input(shape=(val_data_features.shape[1],))\n",
        "x = Dense(512)(input)\n",
        "x = BatchNormalization()(x)\n",
        "x = Dropout(0.2)(x)\n",
        "x = ReLU()(x)\n",
        "\n",
        "x = Dense(256)(x)\n",
        "x = BatchNormalization()(x)\n",
        "x = Dropout(0.2)(x)\n",
        "x = ReLU()(x)\n",
        "\n",
        "x = Dense(128)(x)\n",
        "x = BatchNormalization()(x)\n",
        "x = Dropout(0.2)(x)\n",
        "x = ReLU()(x)\n",
        "\n",
        "output = Dense(len(np.unique(train_data_labels_n)), activation='softmax', name=f'category_{1}_output')(x)\n",
        "\n",
        "model = Model(inputs=[input], outputs=[output])\n",
        "\n",
        "# Compile the model\n",
        "model.compile(optimizer='adam',\n",
        "              loss='sparse_categorical_crossentropy',\n",
        "              metrics=['accuracy'])"
      ],
      "metadata": {
        "id": "0j5QWHdV3QnL"
      },
      "execution_count": null,
      "outputs": []
    },
    {
      "cell_type": "code",
      "source": [
        "history = model.fit(\n",
        "    undersampled_features, undersampled_labels,\n",
        "    epochs=20,\n",
        "    batch_size=32,\n",
        "    validation_data = (val_data_features, val_data_labels_n)\n",
        ")"
      ],
      "metadata": {
        "colab": {
          "base_uri": "https://localhost:8080/"
        },
        "outputId": "42b18e81-b957-4cd2-a68d-cbc6b395b0cc",
        "id": "S-dO5Vww3QnL"
      },
      "execution_count": null,
      "outputs": [
        {
          "output_type": "stream",
          "name": "stdout",
          "text": [
            "Epoch 1/20\n",
            "250/250 [==============================] - 11s 18ms/step - loss: 0.7212 - accuracy: 0.6986 - val_loss: 0.9449 - val_accuracy: 0.6180\n",
            "Epoch 2/20\n",
            "250/250 [==============================] - 4s 15ms/step - loss: 0.3783 - accuracy: 0.8491 - val_loss: 0.9005 - val_accuracy: 0.6440\n",
            "Epoch 3/20\n",
            "250/250 [==============================] - 4s 16ms/step - loss: 0.2348 - accuracy: 0.9116 - val_loss: 1.0781 - val_accuracy: 0.6330\n",
            "Epoch 4/20\n",
            "250/250 [==============================] - 4s 16ms/step - loss: 0.1628 - accuracy: 0.9401 - val_loss: 1.2307 - val_accuracy: 0.6350\n",
            "Epoch 5/20\n",
            "250/250 [==============================] - 4s 14ms/step - loss: 0.1110 - accuracy: 0.9585 - val_loss: 1.2823 - val_accuracy: 0.6530\n",
            "Epoch 6/20\n",
            "250/250 [==============================] - 4s 14ms/step - loss: 0.0963 - accuracy: 0.9666 - val_loss: 1.5132 - val_accuracy: 0.6340\n",
            "Epoch 7/20\n",
            "250/250 [==============================] - 4s 16ms/step - loss: 0.0884 - accuracy: 0.9670 - val_loss: 1.4118 - val_accuracy: 0.6620\n",
            "Epoch 8/20\n",
            "250/250 [==============================] - 4s 15ms/step - loss: 0.0689 - accuracy: 0.9761 - val_loss: 1.5233 - val_accuracy: 0.6480\n",
            "Epoch 9/20\n",
            "250/250 [==============================] - 4s 14ms/step - loss: 0.0542 - accuracy: 0.9810 - val_loss: 1.5481 - val_accuracy: 0.6430\n",
            "Epoch 10/20\n",
            "250/250 [==============================] - 4s 15ms/step - loss: 0.0477 - accuracy: 0.9830 - val_loss: 1.6237 - val_accuracy: 0.6270\n",
            "Epoch 11/20\n",
            "250/250 [==============================] - 4s 15ms/step - loss: 0.0553 - accuracy: 0.9809 - val_loss: 1.8565 - val_accuracy: 0.6150\n",
            "Epoch 12/20\n",
            "250/250 [==============================] - 3s 14ms/step - loss: 0.0499 - accuracy: 0.9830 - val_loss: 1.7708 - val_accuracy: 0.6360\n",
            "Epoch 13/20\n",
            "250/250 [==============================] - 3s 14ms/step - loss: 0.0569 - accuracy: 0.9800 - val_loss: 1.7600 - val_accuracy: 0.6460\n",
            "Epoch 14/20\n",
            "250/250 [==============================] - 4s 16ms/step - loss: 0.0445 - accuracy: 0.9846 - val_loss: 1.7317 - val_accuracy: 0.6450\n",
            "Epoch 15/20\n",
            "250/250 [==============================] - 4s 14ms/step - loss: 0.0314 - accuracy: 0.9890 - val_loss: 1.7552 - val_accuracy: 0.6350\n",
            "Epoch 16/20\n",
            "250/250 [==============================] - 3s 14ms/step - loss: 0.0342 - accuracy: 0.9893 - val_loss: 1.9813 - val_accuracy: 0.6220\n",
            "Epoch 17/20\n",
            "250/250 [==============================] - 4s 15ms/step - loss: 0.0381 - accuracy: 0.9865 - val_loss: 1.7658 - val_accuracy: 0.6410\n",
            "Epoch 18/20\n",
            "250/250 [==============================] - 4s 15ms/step - loss: 0.0376 - accuracy: 0.9872 - val_loss: 1.8175 - val_accuracy: 0.6480\n",
            "Epoch 19/20\n",
            "250/250 [==============================] - 3s 14ms/step - loss: 0.0444 - accuracy: 0.9862 - val_loss: 2.1089 - val_accuracy: 0.6180\n",
            "Epoch 20/20\n",
            "250/250 [==============================] - 4s 15ms/step - loss: 0.0349 - accuracy: 0.9879 - val_loss: 1.7409 - val_accuracy: 0.6580\n"
          ]
        }
      ]
    },
    {
      "cell_type": "code",
      "source": [
        "r = pd.DataFrame(history.history)\n",
        "fig, ax = plt.subplots(1, 2, figsize=(15, 5))\n",
        "ax[0].plot(r.index, r['loss'], label='Train loss')\n",
        "ax[0].plot(r.index, r['val_loss'], label='Validation loss')\n",
        "ax[1].plot(r.index, r['accuracy'], label='Train accuracy')\n",
        "ax[1].plot(r.index, r['val_accuracy'], label='Validation accuracy')\n",
        "ax[0].legend()\n",
        "ax[1].legend()\n",
        "plt.show()"
      ],
      "metadata": {
        "colab": {
          "base_uri": "https://localhost:8080/",
          "height": 297
        },
        "outputId": "131f4b8b-8e07-4c61-d74e-1a735a9848bc",
        "id": "9-CqixyI3QnL"
      },
      "execution_count": null,
      "outputs": [
        {
          "output_type": "display_data",
          "data": {
            "text/plain": [
              "<Figure size 1500x500 with 2 Axes>"
            ],
            "image/png": "[encoded data removed]"
          },
          "metadata": {}
        }
      ]
    },
    {
      "cell_type": "markdown",
      "source": [
        "## Saving checkpoints and Metrics"
      ],
      "metadata": {
        "id": "f-w8nCtXnwnb"
      }
    },
    {
      "cell_type": "code",
      "source": [
        "model.save('models/model/model_3.h5')"
      ],
      "metadata": {
        "colab": {
          "base_uri": "https://localhost:8080/"
        },
        "outputId": "d93b86c3-81de-4421-fbf4-58ac91ab22af",
        "id": "fKVnLd-hnwnv"
      },
      "execution_count": null,
      "outputs": [
        {
          "output_type": "stream",
          "name": "stderr",
          "text": [
            "/usr/local/lib/python3.10/dist-packages/keras/src/engine/training.py:3103: UserWarning: You are saving your model as an HDF5 file via `model.save()`. This file format is considered legacy. We recommend using instead the native Keras format, e.g. `model.save('my_model.keras')`.\n",
            "  saving_api.save_model(\n"
          ]
        }
      ]
    },
    {
      "cell_type": "code",
      "source": [
        "r.to_csv('reports/metrics/metrics_3.csv', index=False)"
      ],
      "metadata": {
        "id": "SFblfdNtnwnw"
      },
      "execution_count": null,
      "outputs": []
    },
    {
      "cell_type": "markdown",
      "source": [
        "## Evaluation"
      ],
      "metadata": {
        "id": "pDYPuDzr3QnM"
      }
    },
    {
      "cell_type": "code",
      "source": [
        "y_pred = model.predict(val_data_features)\n",
        "y_pred = np.argmax(y_pred, axis=1)"
      ],
      "metadata": {
        "colab": {
          "base_uri": "https://localhost:8080/"
        },
        "outputId": "dc8c4895-5266-4a2b-8077-e525a1b280a6",
        "id": "ArHB__nS3QnM"
      },
      "execution_count": null,
      "outputs": [
        {
          "output_type": "stream",
          "name": "stdout",
          "text": [
            "32/32 [==============================] - 0s 6ms/step\n"
          ]
        }
      ]
    },
    {
      "cell_type": "code",
      "source": [
        "# Calculate precision, recall, and F1 score\n",
        "accuracy = accuracy_score(val_data_labels_n, y_pred)\n",
        "precision = precision_score(val_data_labels_n, y_pred, average='weighted')\n",
        "recall = recall_score(val_data_labels_n, y_pred, average='weighted')\n",
        "f1 = f1_score(val_data_labels_n, y_pred, average='weighted')\n",
        "\n",
        "# Print the results\n",
        "print('Accuracy:', accuracy)\n",
        "print('Precision:', precision)\n",
        "print('Recall:', recall)\n",
        "print('F1 score:', f1)"
      ],
      "metadata": {
        "colab": {
          "base_uri": "https://localhost:8080/"
        },
        "outputId": "bfabb84f-036c-4282-ad4c-13f73bb0c538",
        "id": "fZG8kHyW3QnN"
      },
      "execution_count": null,
      "outputs": [
        {
          "output_type": "stream",
          "name": "stdout",
          "text": [
            "Accuracy: 0.661\n",
            "Precision: 0.656064421097781\n",
            "Recall: 0.661\n",
            "F1 score: 0.6492725410164065\n"
          ]
        }
      ]
    },
    {
      "cell_type": "code",
      "source": [
        "print(classification_report(val_data_labels_n, y_pred))"
      ],
      "metadata": {
        "colab": {
          "base_uri": "https://localhost:8080/"
        },
        "outputId": "a184edd5-00ad-4cdb-c149-15f62d9c31ac",
        "id": "tRT85kLU3QnN"
      },
      "execution_count": null,
      "outputs": [
        {
          "output_type": "stream",
          "name": "stdout",
          "text": [
            "              precision    recall  f1-score   support\n",
            "\n",
            "           0       0.62      0.74      0.68       387\n",
            "           1       0.58      0.31      0.40       173\n",
            "           2       0.00      0.00      0.00         2\n",
            "           3       0.72      0.73      0.73       438\n",
            "\n",
            "    accuracy                           0.66      1000\n",
            "   macro avg       0.48      0.45      0.45      1000\n",
            "weighted avg       0.66      0.66      0.65      1000\n",
            "\n"
          ]
        }
      ]
    },
    {
      "cell_type": "markdown",
      "source": [
        "## Retrieving"
      ],
      "metadata": {
        "id": "ut7SclJZY8CL"
      }
    },
    {
      "cell_type": "code",
      "source": [
        "test_data_features = np.load('data/processed/test/test_data_features.npy')\n",
        "\n",
        "predictions = model.predict(test_data_features)\n",
        "\n",
        "np.save('data/processed/test/output_3.npy', predictions)"
      ],
      "metadata": {
        "colab": {
          "base_uri": "https://localhost:8080/"
        },
        "outputId": "799ccfa9-e46f-472f-a6e1-bbef1ac86159",
        "id": "0eW1qV0HY8C1"
      },
      "execution_count": null,
      "outputs": [
        {
          "output_type": "stream",
          "name": "stdout",
          "text": [
            "32/32 [==============================] - 0s 7ms/step\n"
          ]
        }
      ]
    },
    {
      "cell_type": "markdown",
      "source": [
        "# Output 4"
      ],
      "metadata": {
        "id": "_6bVW0MF8nBb"
      }
    },
    {
      "cell_type": "markdown",
      "source": [
        "## Loading Features and Labels"
      ],
      "metadata": {
        "id": "jI34oLmn8nBz"
      }
    },
    {
      "cell_type": "code",
      "source": [
        "train_data_features = np.load('data/processed/train/train_data_features.npy')\n",
        "train_data_labels = np.load('data/processed/train/train_labels.npy')\n",
        "\n",
        "val_data_features = np.load('data/processed/val/val_data_features.npy')\n",
        "val_data_labels = np.load('data/processed/val/val_labels.npy')"
      ],
      "metadata": {
        "id": "ETP21t158nBz"
      },
      "execution_count": null,
      "outputs": []
    },
    {
      "cell_type": "code",
      "source": [
        "N = 4 # Choosing which label to work with\n",
        "\n",
        "train_data_labels_n = train_data_labels[:, N]\n",
        "print(\"Training distribution:\", Counter(train_data_labels_n))\n",
        "\n",
        "val_data_labels_n = val_data_labels[:, N]\n",
        "print(\"Validation distribution:\", Counter(val_data_labels_n))"
      ],
      "metadata": {
        "colab": {
          "base_uri": "https://localhost:8080/"
        },
        "outputId": "bbcfee28-f8de-4455-812f-62c2abe5ce17",
        "id": "NZcVxk0Z8nB0"
      },
      "execution_count": null,
      "outputs": [
        {
          "output_type": "stream",
          "name": "stdout",
          "text": [
            "Training distribution: Counter({2: 3399, 1: 702, 5: 436, 0: 310, 3: 105, 4: 48})\n",
            "Validation distribution: Counter({2: 680, 1: 146, 5: 92, 0: 56, 3: 16, 4: 10})\n"
          ]
        }
      ]
    },
    {
      "cell_type": "markdown",
      "source": [
        "## Balancing training dataset"
      ],
      "metadata": {
        "id": "IvzQMwQR8nB0"
      }
    },
    {
      "cell_type": "code",
      "source": [
        "# Upsampling Minority classes using SMOTE\n",
        "smote = SMOTE(sampling_strategy={\n",
        "    0: 2000,\n",
        "    1: 3000,\n",
        "    5: 2000,\n",
        "    3: 800,\n",
        "    4: 500\n",
        "})\n",
        "\n",
        "oversampled_features, oversampled_labels = smote.fit_resample(train_data_features, train_data_labels_n)\n",
        "\n",
        "# Downsample the majority class using RandomUnderSampler\n",
        "undersampler = RandomUnderSampler(sampling_strategy={\n",
        "    2: 3300\n",
        "})\n",
        "\n",
        "undersampled_features, undersampled_labels = undersampler.fit_resample(oversampled_features, oversampled_labels)\n",
        "\n",
        "print(\"Class distribution after balancing:\", Counter(undersampled_labels))\n",
        "print(\"Shape of oversampled features:\", undersampled_labels.shape)\n",
        "print(\"Shape of oversampled labels:\", undersampled_labels.shape)"
      ],
      "metadata": {
        "colab": {
          "base_uri": "https://localhost:8080/"
        },
        "outputId": "2b428825-8929-47c2-a8c2-1a46263dcfeb",
        "id": "5geKz9Tm8nB1"
      },
      "execution_count": null,
      "outputs": [
        {
          "output_type": "stream",
          "name": "stdout",
          "text": [
            "Class distribution after balancing: Counter({2: 3300, 1: 3000, 0: 2000, 5: 2000, 3: 800, 4: 500})\n",
            "Shape of oversampled features: (11600,)\n",
            "Shape of oversampled labels: (11600,)\n"
          ]
        }
      ]
    },
    {
      "cell_type": "markdown",
      "source": [
        "## Training"
      ],
      "metadata": {
        "id": "KwgkJxlU8nB1"
      }
    },
    {
      "cell_type": "code",
      "source": [
        "input = Input(shape=(val_data_features.shape[1],))\n",
        "x = Dense(512)(input)\n",
        "x = BatchNormalization()(x)\n",
        "x = Dropout(0.2)(x)\n",
        "x = ReLU()(x)\n",
        "\n",
        "x = Dense(256)(x)\n",
        "x = BatchNormalization()(x)\n",
        "x = Dropout(0.2)(x)\n",
        "x = ReLU()(x)\n",
        "\n",
        "x = Dense(128)(x)\n",
        "x = BatchNormalization()(x)\n",
        "x = Dropout(0.2)(x)\n",
        "x = ReLU()(x)\n",
        "\n",
        "output = Dense(len(np.unique(train_data_labels_n)), activation='softmax', name=f'category_{1}_output')(x)\n",
        "\n",
        "model = Model(inputs=[input], outputs=[output])\n",
        "\n",
        "# Compile the model\n",
        "model.compile(optimizer='adam',\n",
        "              loss='sparse_categorical_crossentropy',\n",
        "              metrics=['accuracy'])"
      ],
      "metadata": {
        "id": "JwSPoRBv8nB1"
      },
      "execution_count": null,
      "outputs": []
    },
    {
      "cell_type": "code",
      "source": [
        "history = model.fit(\n",
        "    undersampled_features, undersampled_labels,\n",
        "    epochs=20,\n",
        "    batch_size=32,\n",
        "    validation_data = (val_data_features, val_data_labels_n)\n",
        ")"
      ],
      "metadata": {
        "colab": {
          "base_uri": "https://localhost:8080/"
        },
        "outputId": "63abacbd-c666-4af7-ea17-17b1bf4b8fcb",
        "id": "n8gKjZGb8nB2"
      },
      "execution_count": null,
      "outputs": [
        {
          "output_type": "stream",
          "name": "stdout",
          "text": [
            "Epoch 1/20\n",
            "363/363 [==============================] - 14s 19ms/step - loss: 0.7169 - accuracy: 0.7300 - val_loss: 1.0196 - val_accuracy: 0.6220\n",
            "Epoch 2/20\n",
            "363/363 [==============================] - 6s 15ms/step - loss: 0.2452 - accuracy: 0.9109 - val_loss: 1.1099 - val_accuracy: 0.7070\n",
            "Epoch 3/20\n",
            "363/363 [==============================] - 6s 16ms/step - loss: 0.1290 - accuracy: 0.9551 - val_loss: 1.2830 - val_accuracy: 0.6790\n",
            "Epoch 4/20\n",
            "363/363 [==============================] - 6s 15ms/step - loss: 0.0943 - accuracy: 0.9672 - val_loss: 1.3910 - val_accuracy: 0.6530\n",
            "Epoch 5/20\n",
            "363/363 [==============================] - 6s 16ms/step - loss: 0.0707 - accuracy: 0.9747 - val_loss: 1.6160 - val_accuracy: 0.6880\n",
            "Epoch 6/20\n",
            "363/363 [==============================] - 5s 15ms/step - loss: 0.0728 - accuracy: 0.9744 - val_loss: 1.4834 - val_accuracy: 0.6620\n",
            "Epoch 7/20\n",
            "363/363 [==============================] - 6s 16ms/step - loss: 0.0459 - accuracy: 0.9847 - val_loss: 1.7389 - val_accuracy: 0.6920\n",
            "Epoch 8/20\n",
            "363/363 [==============================] - 6s 16ms/step - loss: 0.0539 - accuracy: 0.9813 - val_loss: 1.6824 - val_accuracy: 0.6590\n",
            "Epoch 9/20\n",
            "363/363 [==============================] - 6s 15ms/step - loss: 0.0425 - accuracy: 0.9853 - val_loss: 1.6132 - val_accuracy: 0.6810\n",
            "Epoch 10/20\n",
            "363/363 [==============================] - 6s 16ms/step - loss: 0.0474 - accuracy: 0.9841 - val_loss: 1.6856 - val_accuracy: 0.7050\n",
            "Epoch 11/20\n",
            "363/363 [==============================] - 6s 15ms/step - loss: 0.0408 - accuracy: 0.9861 - val_loss: 1.7132 - val_accuracy: 0.6930\n",
            "Epoch 12/20\n",
            "363/363 [==============================] - 6s 17ms/step - loss: 0.0423 - accuracy: 0.9864 - val_loss: 1.6747 - val_accuracy: 0.6800\n",
            "Epoch 13/20\n",
            "363/363 [==============================] - 6s 15ms/step - loss: 0.0365 - accuracy: 0.9877 - val_loss: 1.7860 - val_accuracy: 0.6670\n",
            "Epoch 14/20\n",
            "363/363 [==============================] - 6s 16ms/step - loss: 0.0296 - accuracy: 0.9901 - val_loss: 1.8702 - val_accuracy: 0.7120\n",
            "Epoch 15/20\n",
            "363/363 [==============================] - 6s 16ms/step - loss: 0.0236 - accuracy: 0.9912 - val_loss: 1.9567 - val_accuracy: 0.6880\n",
            "Epoch 16/20\n",
            "363/363 [==============================] - 6s 15ms/step - loss: 0.0313 - accuracy: 0.9900 - val_loss: 1.9259 - val_accuracy: 0.6650\n",
            "Epoch 17/20\n",
            "363/363 [==============================] - 6s 16ms/step - loss: 0.0382 - accuracy: 0.9885 - val_loss: 1.7982 - val_accuracy: 0.6940\n",
            "Epoch 18/20\n",
            "363/363 [==============================] - 6s 15ms/step - loss: 0.0224 - accuracy: 0.9928 - val_loss: 2.1337 - val_accuracy: 0.6700\n",
            "Epoch 19/20\n",
            "363/363 [==============================] - 6s 16ms/step - loss: 0.0327 - accuracy: 0.9884 - val_loss: 1.9299 - val_accuracy: 0.6880\n",
            "Epoch 20/20\n",
            "363/363 [==============================] - 5s 15ms/step - loss: 0.0258 - accuracy: 0.9909 - val_loss: 1.7954 - val_accuracy: 0.6890\n"
          ]
        }
      ]
    },
    {
      "cell_type": "code",
      "source": [
        "r = pd.DataFrame(history.history)\n",
        "fig, ax = plt.subplots(1, 2, figsize=(15, 5))\n",
        "ax[0].plot(r.index, r['loss'], label='Train loss')\n",
        "ax[0].plot(r.index, r['val_loss'], label='Validation loss')\n",
        "ax[1].plot(r.index, r['accuracy'], label='Train accuracy')\n",
        "ax[1].plot(r.index, r['val_accuracy'], label='Validation accuracy')\n",
        "ax[0].legend()\n",
        "ax[1].legend()\n",
        "plt.show()"
      ],
      "metadata": {
        "colab": {
          "base_uri": "https://localhost:8080/",
          "height": 297
        },
        "outputId": "0b3ad8ca-fb3b-4625-9d8f-3bd92da272c9",
        "id": "fwfe9MUk8nB2"
      },
      "execution_count": null,
      "outputs": [
        {
          "output_type": "display_data",
          "data": {
            "text/plain": [
              "<Figure size 1500x500 with 2 Axes>"
            ],
            "image/png": "[encoded data removed]"
          },
          "metadata": {}
        }
      ]
    },
    {
      "cell_type": "markdown",
      "source": [
        "## Saving checkpoints and Metrics"
      ],
      "metadata": {
        "id": "4vGWembHpSea"
      }
    },
    {
      "cell_type": "code",
      "source": [
        "model.save('models/model/model_4.h5')"
      ],
      "metadata": {
        "colab": {
          "base_uri": "https://localhost:8080/"
        },
        "outputId": "46a2bc5a-f710-4d3d-c0d1-2d8580c97473",
        "id": "QZVHzp9cpSe3"
      },
      "execution_count": null,
      "outputs": [
        {
          "output_type": "stream",
          "name": "stderr",
          "text": [
            "/usr/local/lib/python3.10/dist-packages/keras/src/engine/training.py:3103: UserWarning: You are saving your model as an HDF5 file via `model.save()`. This file format is considered legacy. We recommend using instead the native Keras format, e.g. `model.save('my_model.keras')`.\n",
            "  saving_api.save_model(\n"
          ]
        }
      ]
    },
    {
      "cell_type": "code",
      "source": [
        "r.to_csv('reports/metrics/metrics_4.csv', index=False)"
      ],
      "metadata": {
        "id": "Vgm-93hmpSe4"
      },
      "execution_count": null,
      "outputs": []
    },
    {
      "cell_type": "markdown",
      "source": [
        "## Evaluation"
      ],
      "metadata": {
        "id": "T8MMc-108nB3"
      }
    },
    {
      "cell_type": "code",
      "source": [
        "y_pred = model.predict(val_data_features)\n",
        "y_pred = np.argmax(y_pred, axis=1)"
      ],
      "metadata": {
        "colab": {
          "base_uri": "https://localhost:8080/"
        },
        "outputId": "d31401b4-0096-4f77-f1a9-d43b7bdaccef",
        "id": "hGj5QSS08nB3"
      },
      "execution_count": null,
      "outputs": [
        {
          "output_type": "stream",
          "name": "stdout",
          "text": [
            "32/32 [==============================] - 0s 5ms/step\n"
          ]
        }
      ]
    },
    {
      "cell_type": "code",
      "source": [
        "# Calculate precision, recall, and F1 score\n",
        "accuracy = accuracy_score(val_data_labels_n, y_pred)\n",
        "precision = precision_score(val_data_labels_n, y_pred, average='weighted')\n",
        "recall = recall_score(val_data_labels_n, y_pred, average='weighted')\n",
        "f1 = f1_score(val_data_labels_n, y_pred, average='weighted')\n",
        "\n",
        "# Print the results\n",
        "print('Accuracy:', accuracy)\n",
        "print('Precision:', precision)\n",
        "print('Recall:', recall)\n",
        "print('F1 score:', f1)"
      ],
      "metadata": {
        "colab": {
          "base_uri": "https://localhost:8080/"
        },
        "outputId": "bae3d2b2-450e-4570-cadc-b2bb537e2de9",
        "id": "9CH-272z8nB3"
      },
      "execution_count": null,
      "outputs": [
        {
          "output_type": "stream",
          "name": "stdout",
          "text": [
            "Accuracy: 0.694\n",
            "Precision: 0.6757415830173272\n",
            "Recall: 0.694\n",
            "F1 score: 0.6778084501542047\n"
          ]
        }
      ]
    },
    {
      "cell_type": "code",
      "source": [
        "print(classification_report(val_data_labels_n, y_pred))"
      ],
      "metadata": {
        "colab": {
          "base_uri": "https://localhost:8080/"
        },
        "outputId": "1f54a1df-2d60-4c27-c45d-85fb9fb50a66",
        "id": "__xHByGg8nB4"
      },
      "execution_count": null,
      "outputs": [
        {
          "output_type": "stream",
          "name": "stdout",
          "text": [
            "              precision    recall  f1-score   support\n",
            "\n",
            "           0       0.58      0.45      0.51        56\n",
            "           1       0.46      0.39      0.42       146\n",
            "           2       0.77      0.86      0.81       680\n",
            "           3       0.06      0.06      0.06        16\n",
            "           4       0.31      0.50      0.38        10\n",
            "           5       0.52      0.25      0.34        92\n",
            "\n",
            "    accuracy                           0.69      1000\n",
            "   macro avg       0.45      0.42      0.42      1000\n",
            "weighted avg       0.68      0.69      0.68      1000\n",
            "\n"
          ]
        }
      ]
    },
    {
      "cell_type": "markdown",
      "source": [
        "## Retrieving"
      ],
      "metadata": {
        "id": "7WmhY3J7Yui5"
      }
    },
    {
      "cell_type": "code",
      "source": [
        "test_data_features = np.load('data/processed/test/test_data_features.npy')\n",
        "\n",
        "predictions = model.predict(test_data_features)\n",
        "\n",
        "np.save('data/processed/test/output_4.npy', predictions)"
      ],
      "metadata": {
        "colab": {
          "base_uri": "https://localhost:8080/"
        },
        "outputId": "0cd1b231-5718-4ed2-997e-29060ed1cf5d",
        "id": "mxUMlQkDYui6"
      },
      "execution_count": null,
      "outputs": [
        {
          "output_type": "stream",
          "name": "stdout",
          "text": [
            "32/32 [==============================] - 0s 5ms/step\n"
          ]
        }
      ]
    },
    {
      "cell_type": "markdown",
      "source": [
        "# Output 5"
      ],
      "metadata": {
        "id": "JLCd7iQPrUJR"
      }
    },
    {
      "cell_type": "markdown",
      "source": [
        "## Loading Features and Labels"
      ],
      "metadata": {
        "id": "ML6jbjl-T1r6"
      }
    },
    {
      "cell_type": "code",
      "source": [
        "train_data_features = np.load('data/processed/train/train_data_features.npy')\n",
        "train_data_labels = np.load('data/processed/train/train_labels.npy')\n",
        "\n",
        "val_data_features = np.load('data/processed/val/val_data_features.npy')\n",
        "val_data_labels = np.load('data/processed/val/val_labels.npy')"
      ],
      "metadata": {
        "id": "oSJP7VNg1eQP"
      },
      "execution_count": null,
      "outputs": []
    },
    {
      "cell_type": "code",
      "source": [
        "N = 5 # Choosing which label to work with\n",
        "\n",
        "train_data_labels_n = train_data_labels[:, N]\n",
        "print(\"Training distribution:\", Counter(train_data_labels_n))\n",
        "\n",
        "val_data_labels_n = val_data_labels[:, N]\n",
        "print(\"Validation distribution:\", Counter(val_data_labels_n))"
      ],
      "metadata": {
        "colab": {
          "base_uri": "https://localhost:8080/"
        },
        "id": "i_Qtd_nvqsHc",
        "outputId": "67c5c269-ec80-41bd-9681-a919a7922450"
      },
      "execution_count": null,
      "outputs": [
        {
          "output_type": "stream",
          "name": "stdout",
          "text": [
            "Training distribution: Counter({2: 3972, 0: 749, 1: 279})\n",
            "Validation distribution: Counter({2: 801, 0: 129, 1: 70})\n"
          ]
        }
      ]
    },
    {
      "cell_type": "markdown",
      "source": [
        "## Balancing training dataset"
      ],
      "metadata": {
        "id": "5vXpUNX4T6aF"
      }
    },
    {
      "cell_type": "code",
      "source": [
        "# Set the target number of samples for each class\n",
        "target_samples = 1000\n",
        "\n",
        "# Upsampling Minority classes using SMOTE\n",
        "smote = SMOTE(sampling_strategy={\n",
        "    0: 3000,\n",
        "    1: 5000,\n",
        "})\n",
        "\n",
        "oversampled_features, oversampled_labels = smote.fit_resample(train_data_features, train_data_labels_n)\n",
        "\n",
        "# Downsample the majority class using RandomUnderSampler\n",
        "undersampler = RandomUnderSampler(sampling_strategy={\n",
        "    2: 3000\n",
        "})\n",
        "\n",
        "undersampled_features, undersampled_labels = undersampler.fit_resample(oversampled_features, oversampled_labels)\n",
        "\n",
        "print(\"Class distribution after balancing:\", Counter(undersampled_labels))\n",
        "print(\"Shape of oversampled features:\", undersampled_labels.shape)\n",
        "print(\"Shape of oversampled labels:\", undersampled_labels.shape)"
      ],
      "metadata": {
        "colab": {
          "base_uri": "https://localhost:8080/"
        },
        "id": "BtZcB8DTzYYP",
        "outputId": "ed0ed003-7514-4ef9-e33f-669daf0caf16"
      },
      "execution_count": null,
      "outputs": [
        {
          "output_type": "stream",
          "name": "stderr",
          "text": [
            "/usr/local/lib/python3.10/dist-packages/imblearn/utils/_validation.py:313: UserWarning: After over-sampling, the number of samples (5000) in class 1 will be larger than the number of samples in the majority class (class #2 -> 3972)\n",
            "  warnings.warn(\n"
          ]
        },
        {
          "output_type": "stream",
          "name": "stdout",
          "text": [
            "Class distribution after balancing: Counter({1: 5000, 0: 3000, 2: 3000})\n",
            "Shape of oversampled features: (11000,)\n",
            "Shape of oversampled labels: (11000,)\n"
          ]
        }
      ]
    },
    {
      "cell_type": "markdown",
      "source": [
        "## Training"
      ],
      "metadata": {
        "id": "019SI5k0T_Mm"
      }
    },
    {
      "cell_type": "code",
      "source": [
        "input = Input(shape=(val_data_features.shape[1],))\n",
        "x = Dense(512)(input)\n",
        "x = BatchNormalization()(x)\n",
        "x = Dropout(0.2)(x)\n",
        "x = ReLU()(x)\n",
        "\n",
        "x = Dense(256)(x)\n",
        "x = BatchNormalization()(x)\n",
        "x = Dropout(0.2)(x)\n",
        "x = ReLU()(x)\n",
        "\n",
        "x = Dense(128)(x)\n",
        "x = BatchNormalization()(x)\n",
        "x = Dropout(0.2)(x)\n",
        "x = ReLU()(x)\n",
        "\n",
        "output = Dense(len(np.unique(train_data_labels_n)), activation='softmax', name=f'category_{1}_output')(x)\n",
        "\n",
        "model = Model(inputs=[input], outputs=[output])\n",
        "\n",
        "# Compile the model\n",
        "model.compile(optimizer='adam',\n",
        "              loss='sparse_categorical_crossentropy',\n",
        "              metrics=['accuracy'])"
      ],
      "metadata": {
        "id": "l4eVRbc7qr__"
      },
      "execution_count": null,
      "outputs": []
    },
    {
      "cell_type": "code",
      "source": [
        "history = model.fit(\n",
        "    undersampled_features, undersampled_labels,\n",
        "    epochs=20,\n",
        "    batch_size=32,\n",
        "    validation_data = (val_data_features, val_data_labels_n)\n",
        ")"
      ],
      "metadata": {
        "colab": {
          "base_uri": "https://localhost:8080/"
        },
        "id": "PdbFSD5RvTot",
        "outputId": "bfc38820-dd8d-4ffb-af79-b2a47b7c2093"
      },
      "execution_count": null,
      "outputs": [
        {
          "output_type": "stream",
          "name": "stdout",
          "text": [
            "Epoch 1/20\n",
            "344/344 [==============================] - 16s 23ms/step - loss: 0.4160 - accuracy: 0.8338 - val_loss: 0.7201 - val_accuracy: 0.7590\n",
            "Epoch 2/20\n",
            "344/344 [==============================] - 9s 25ms/step - loss: 0.1528 - accuracy: 0.9417 - val_loss: 0.7175 - val_accuracy: 0.7980\n",
            "Epoch 3/20\n",
            "344/344 [==============================] - 9s 25ms/step - loss: 0.0827 - accuracy: 0.9715 - val_loss: 0.9708 - val_accuracy: 0.7840\n",
            "Epoch 4/20\n",
            "344/344 [==============================] - 7s 21ms/step - loss: 0.0551 - accuracy: 0.9823 - val_loss: 0.9194 - val_accuracy: 0.8090\n",
            "Epoch 5/20\n",
            "344/344 [==============================] - 7s 20ms/step - loss: 0.0462 - accuracy: 0.9848 - val_loss: 0.9594 - val_accuracy: 0.8180\n",
            "Epoch 6/20\n",
            "344/344 [==============================] - 5s 15ms/step - loss: 0.0419 - accuracy: 0.9849 - val_loss: 1.0441 - val_accuracy: 0.7930\n",
            "Epoch 7/20\n",
            "344/344 [==============================] - 6s 17ms/step - loss: 0.0419 - accuracy: 0.9860 - val_loss: 0.9994 - val_accuracy: 0.7900\n",
            "Epoch 8/20\n",
            "344/344 [==============================] - 5s 16ms/step - loss: 0.0330 - accuracy: 0.9902 - val_loss: 0.9680 - val_accuracy: 0.8240\n",
            "Epoch 9/20\n",
            "344/344 [==============================] - 5s 15ms/step - loss: 0.0268 - accuracy: 0.9903 - val_loss: 1.0801 - val_accuracy: 0.7920\n",
            "Epoch 10/20\n",
            "344/344 [==============================] - 6s 17ms/step - loss: 0.0366 - accuracy: 0.9865 - val_loss: 1.1604 - val_accuracy: 0.8190\n",
            "Epoch 11/20\n",
            "344/344 [==============================] - 6s 18ms/step - loss: 0.0231 - accuracy: 0.9925 - val_loss: 1.0591 - val_accuracy: 0.8110\n",
            "Epoch 12/20\n",
            "344/344 [==============================] - 8s 23ms/step - loss: 0.0220 - accuracy: 0.9935 - val_loss: 1.0747 - val_accuracy: 0.8140\n",
            "Epoch 13/20\n",
            "344/344 [==============================] - 8s 22ms/step - loss: 0.0280 - accuracy: 0.9910 - val_loss: 1.0135 - val_accuracy: 0.8060\n",
            "Epoch 14/20\n",
            "344/344 [==============================] - 8s 22ms/step - loss: 0.0176 - accuracy: 0.9940 - val_loss: 1.1703 - val_accuracy: 0.7920\n",
            "Epoch 15/20\n",
            "344/344 [==============================] - 7s 20ms/step - loss: 0.0281 - accuracy: 0.9915 - val_loss: 0.9957 - val_accuracy: 0.8260\n",
            "Epoch 16/20\n",
            "344/344 [==============================] - 7s 21ms/step - loss: 0.0155 - accuracy: 0.9957 - val_loss: 1.2086 - val_accuracy: 0.8060\n",
            "Epoch 17/20\n",
            "344/344 [==============================] - 7s 21ms/step - loss: 0.0173 - accuracy: 0.9944 - val_loss: 1.3746 - val_accuracy: 0.7540\n",
            "Epoch 18/20\n",
            "344/344 [==============================] - 7s 20ms/step - loss: 0.0237 - accuracy: 0.9922 - val_loss: 1.1357 - val_accuracy: 0.8220\n",
            "Epoch 19/20\n",
            "344/344 [==============================] - 7s 21ms/step - loss: 0.0175 - accuracy: 0.9947 - val_loss: 1.2735 - val_accuracy: 0.7800\n",
            "Epoch 20/20\n",
            "344/344 [==============================] - 7s 20ms/step - loss: 0.0205 - accuracy: 0.9929 - val_loss: 1.1428 - val_accuracy: 0.7940\n"
          ]
        }
      ]
    },
    {
      "cell_type": "code",
      "source": [
        "r = pd.DataFrame(history.history)\n",
        "fig, ax = plt.subplots(1, 2, figsize=(15, 5))\n",
        "ax[0].plot(r.index, r['loss'], label='Train loss')\n",
        "ax[0].plot(r.index, r['val_loss'], label='Validation loss')\n",
        "ax[1].plot(r.index, r['accuracy'], label='Train accuracy')\n",
        "ax[1].plot(r.index, r['val_accuracy'], label='Validation accuracy')\n",
        "ax[0].legend()\n",
        "ax[1].legend()\n",
        "plt.show()"
      ],
      "metadata": {
        "colab": {
          "base_uri": "https://localhost:8080/",
          "height": 297
        },
        "id": "83wcCp4evTkX",
        "outputId": "4bb80e32-cf8c-422d-988a-7c0cd096c903"
      },
      "execution_count": null,
      "outputs": [
        {
          "output_type": "display_data",
          "data": {
            "text/plain": [
              "<Figure size 1500x500 with 2 Axes>"
            ],
            "image/png": "[encoded data removed]"
          },
          "metadata": {}
        }
      ]
    },
    {
      "cell_type": "markdown",
      "source": [
        "## Saving checkpoints and Metrics"
      ],
      "metadata": {
        "id": "jDXjFnYOqNaY"
      }
    },
    {
      "cell_type": "code",
      "source": [
        "model.save('models/model/model_5.h5')"
      ],
      "metadata": {
        "colab": {
          "base_uri": "https://localhost:8080/"
        },
        "outputId": "926a8e2c-43a3-491e-f50d-b285fa97934f",
        "id": "tKNQ1ca2qNaZ"
      },
      "execution_count": null,
      "outputs": [
        {
          "output_type": "stream",
          "name": "stderr",
          "text": [
            "/usr/local/lib/python3.10/dist-packages/keras/src/engine/training.py:3103: UserWarning: You are saving your model as an HDF5 file via `model.save()`. This file format is considered legacy. We recommend using instead the native Keras format, e.g. `model.save('my_model.keras')`.\n",
            "  saving_api.save_model(\n"
          ]
        }
      ]
    },
    {
      "cell_type": "code",
      "source": [
        "r.to_csv('reports/metrics/metrics_5.csv', index=False)"
      ],
      "metadata": {
        "id": "tBrth_gfqNaa"
      },
      "execution_count": null,
      "outputs": []
    },
    {
      "cell_type": "markdown",
      "source": [
        "## Evaluation"
      ],
      "metadata": {
        "id": "yGwZmbGYUDQH"
      }
    },
    {
      "cell_type": "code",
      "source": [
        "y_pred = model.predict(val_data_features)\n",
        "y_pred = np.argmax(y_pred, axis=1)"
      ],
      "metadata": {
        "colab": {
          "base_uri": "https://localhost:8080/"
        },
        "id": "VDSrD9_jvTgt",
        "outputId": "10a2b191-1fcb-483a-8fd7-ca6216b8f199"
      },
      "execution_count": null,
      "outputs": [
        {
          "output_type": "stream",
          "name": "stdout",
          "text": [
            "32/32 [==============================] - 0s 6ms/step\n"
          ]
        }
      ]
    },
    {
      "cell_type": "code",
      "source": [
        "# Calculate precision, recall, and F1 score\n",
        "accuracy = accuracy_score(val_data_labels_n, y_pred)\n",
        "precision = precision_score(val_data_labels_n, y_pred, average='weighted')\n",
        "recall = recall_score(val_data_labels_n, y_pred, average='weighted')\n",
        "f1 = f1_score(val_data_labels_n, y_pred, average='weighted')\n",
        "\n",
        "# Print the results\n",
        "print('Accuracy:', accuracy)\n",
        "print('Precision:', precision)\n",
        "print('Recall:', recall)\n",
        "print('F1 score:', f1)"
      ],
      "metadata": {
        "colab": {
          "base_uri": "https://localhost:8080/"
        },
        "id": "HBTpW8_RvTdE",
        "outputId": "6088092f-630c-4f07-a11a-9efc928ba0d0"
      },
      "execution_count": null,
      "outputs": [
        {
          "output_type": "stream",
          "name": "stdout",
          "text": [
            "Accuracy: 0.814\n",
            "Precision: 0.7692337869419154\n",
            "Recall: 0.814\n",
            "F1 score: 0.7840914700272988\n"
          ]
        }
      ]
    },
    {
      "cell_type": "code",
      "source": [
        "print(classification_report(val_data_labels_n, y_pred))"
      ],
      "metadata": {
        "colab": {
          "base_uri": "https://localhost:8080/"
        },
        "id": "F86LLdabydej",
        "outputId": "ca65fd6f-e60b-4c05-9ff2-69ff8b945dcf"
      },
      "execution_count": null,
      "outputs": [
        {
          "output_type": "stream",
          "name": "stdout",
          "text": [
            "              precision    recall  f1-score   support\n",
            "\n",
            "           0       0.60      0.43      0.50       129\n",
            "           1       0.20      0.04      0.07        70\n",
            "           2       0.85      0.94      0.89       801\n",
            "\n",
            "    accuracy                           0.81      1000\n",
            "   macro avg       0.55      0.47      0.49      1000\n",
            "weighted avg       0.77      0.81      0.78      1000\n",
            "\n"
          ]
        }
      ]
    },
    {
      "cell_type": "markdown",
      "source": [
        "## Retrieving"
      ],
      "metadata": {
        "id": "Qy8c-F1BblYK"
      }
    },
    {
      "cell_type": "code",
      "source": [
        "test_data_features = np.load('data/processed/test/test_data_features.npy')\n",
        "\n",
        "predictions = model.predict(test_data_features)\n",
        "\n",
        "np.save('data/processed/test/output_5.npy', predictions)"
      ],
      "metadata": {
        "colab": {
          "base_uri": "https://localhost:8080/"
        },
        "outputId": "f6741b55-dfe7-434f-b056-3f6027a1cdd1",
        "id": "GGrgmAvTblYK"
      },
      "execution_count": null,
      "outputs": [
        {
          "output_type": "stream",
          "name": "stdout",
          "text": [
            "32/32 [==============================] - 0s 5ms/step\n"
          ]
        }
      ]
    },
    {
      "cell_type": "markdown",
      "source": [
        "# Evaluation"
      ],
      "metadata": {
        "id": "2mZ596BtqSvn"
      }
    },
    {
      "cell_type": "code",
      "source": [
        "loss = []\n",
        "val_loss = []\n",
        "accuracy = []\n",
        "val_accuracy = []\n",
        "\n",
        "for i in range(6):\n",
        "  filename = f'reports/metrics/metrics_{i}.csv'\n",
        "  metrics = pd.read_csv(filename)\n",
        "\n",
        "  loss.append(metrics.loss.values)\n",
        "  val_loss.append(metrics.val_loss.values)\n",
        "  accuracy.append(metrics.accuracy.values)\n",
        "  val_accuracy.append(metrics.val_accuracy.values)\n",
        "\n",
        "loss = np.array(loss).sum(axis=0)\n",
        "val_loss = np.array(val_loss).sum(axis=0)\n",
        "accuracy = np.array(accuracy).mean(axis=0)\n",
        "val_accuracy = np.array(val_accuracy).mean(axis=0)"
      ],
      "metadata": {
        "id": "KodoCLdUqUk5"
      },
      "execution_count": null,
      "outputs": []
    },
    {
      "cell_type": "code",
      "source": [
        "fig, ax = plt.subplots(1, 2, figsize=(15, 5))\n",
        "ax[0].plot(loss, label='Train loss')\n",
        "ax[0].plot(val_loss, label='Validation loss')\n",
        "ax[1].plot(accuracy, label='Train accuracy')\n",
        "ax[1].plot(val_accuracy, label='Validation accuracy')\n",
        "ax[0].legend()\n",
        "ax[1].legend()\n",
        "plt.show()"
      ],
      "metadata": {
        "colab": {
          "base_uri": "https://localhost:8080/",
          "height": 300
        },
        "id": "OCZ_DHm8rnFz",
        "outputId": "338f947f-28a3-4b57-a51c-577fdcce84b5"
      },
      "execution_count": null,
      "outputs": [
        {
          "output_type": "display_data",
          "data": {
            "text/plain": [
              "<Figure size 1500x500 with 2 Axes>"
            ],
            "image/png": "[encoded data removed]"
          },
          "metadata": {}
        }
      ]
    },
    {
      "cell_type": "code",
      "source": [
        "print('Total Train loss:', loss.sum())\n",
        "print('Total Validation loss', val_loss.sum())"
      ],
      "metadata": {
        "colab": {
          "base_uri": "https://localhost:8080/"
        },
        "id": "h7Msv4tws_E1",
        "outputId": "a7b1102b-00b2-4ea8-f29f-f4f54a06e6d0"
      },
      "execution_count": null,
      "outputs": [
        {
          "output_type": "stream",
          "name": "stdout",
          "text": [
            "Total Train loss: 9.771645749919113\n",
            "Total Validation loss 150.81500497460365\n"
          ]
        }
      ]
    },
    {
      "cell_type": "code",
      "source": [
        "print('Total Train Accuacy:', accuracy.mean())\n",
        "print('Total Validation Accuracy:', val_accuracy.mean())"
      ],
      "metadata": {
        "colab": {
          "base_uri": "https://localhost:8080/"
        },
        "id": "gaZyseS-tEak",
        "outputId": "19fe22a7-1358-4b68-83de-12e51a94554f"
      },
      "execution_count": null,
      "outputs": [
        {
          "output_type": "stream",
          "name": "stdout",
          "text": [
            "Total Train Accuacy: 0.9708231742183366\n",
            "Total Validation Accuracy: 0.7436833297212919\n"
          ]
        }
      ]
    },
    {
      "cell_type": "markdown",
      "source": [
        "# Inference"
      ],
      "metadata": {
        "id": "LSSVXFIala1C"
      }
    },
    {
      "cell_type": "code",
      "source": [
        "# Initialize an empty array to store combined predictions\n",
        "formatted_predictions = []\n",
        "\n",
        "# Load individual npy files and combine them\n",
        "for i in range(6):  # assuming 6 files output_0.npy to output_5.npy\n",
        "    filename = f\"data/processed/test/output_{i}.npy\"\n",
        "    prediction = np.load(filename)\n",
        "    prediction = np.argmax(prediction, axis=1)\n",
        "    formatted_predictions.append(prediction)\n",
        "\n",
        "formatted_predictions = np.array(formatted_predictions).T"
      ],
      "metadata": {
        "id": "KW9Im_TLQEY9"
      },
      "execution_count": null,
      "outputs": []
    },
    {
      "cell_type": "code",
      "source": [
        "# Store the formatted predictions in a text file\n",
        "output_file = 'data/processed/test/predictions.txt'\n",
        "with open(output_file, 'w') as f:\n",
        "    for prediction in formatted_predictions:\n",
        "        f.write(' '.join(map(str, prediction)) + '\\n')\n",
        "\n",
        "print(f\"Formatted predictions saved to {output_file}\")"
      ],
      "metadata": {
        "id": "PwX-azaipnTB",
        "colab": {
          "base_uri": "https://localhost:8080/"
        },
        "outputId": "f016f3ec-77ac-4fc9-edbb-475f0cdf4c69"
      },
      "execution_count": null,
      "outputs": [
        {
          "output_type": "stream",
          "name": "stdout",
          "text": [
            "Formatted predictions saved to /content/drive/MyDrive/predictions.txt\n"
          ]
        }
      ]
    }
  ],
  "metadata": {
    "colab": {
      "provenance": [],
      "gpuType": "T4",
      "toc_visible": true,
      "include_colab_link": true
    },
    "kernelspec": {
      "display_name": "Python 3",
      "name": "python3"
    },
    "language_info": {
      "name": "python"
    },
    "accelerator": "GPU",
    "widgets": {
      "application/vnd.jupyter.widget-state+json": {
        "98aa4fdf05aa439b9e579ed991475961": {
          "model_module": "@jupyter-widgets/controls",
          "model_name": "HBoxModel",
          "model_module_version": "1.5.0",
          "state": {
            "_dom_classes": [],
            "_model_module": "@jupyter-widgets/controls",
            "_model_module_version": "1.5.0",
            "_model_name": "HBoxModel",
            "_view_count": null,
            "_view_module": "@jupyter-widgets/controls",
            "_view_module_version": "1.5.0",
            "_view_name": "HBoxView",
            "box_style": "",
            "children": [
              "IPY_MODEL_1f88f8281c83485ba579a240287a76c5",
              "IPY_MODEL_8825ba8a046044a6a20da66ab7cdb0fd",
              "IPY_MODEL_23465917b2344f55bd008724d77ad872"
            ],
            "layout": "IPY_MODEL_b6003e320a5642f4b4b721255f9ada4e"
          }
        },
        "1f88f8281c83485ba579a240287a76c5": {
          "model_module": "@jupyter-widgets/controls",
          "model_name": "HTMLModel",
          "model_module_version": "1.5.0",
          "state": {
            "_dom_classes": [],
            "_model_module": "@jupyter-widgets/controls",
            "_model_module_version": "1.5.0",
            "_model_name": "HTMLModel",
            "_view_count": null,
            "_view_module": "@jupyter-widgets/controls",
            "_view_module_version": "1.5.0",
            "_view_name": "HTMLView",
            "description": "",
            "description_tooltip": null,
            "layout": "IPY_MODEL_6b8e4d26733141208c9cc451c33b769f",
            "placeholder": "​",
            "style": "IPY_MODEL_a1410fbbcff14b18b90fae253228abe6",
            "value": "Retrieving features: 100%"
          }
        },
        "8825ba8a046044a6a20da66ab7cdb0fd": {
          "model_module": "@jupyter-widgets/controls",
          "model_name": "FloatProgressModel",
          "model_module_version": "1.5.0",
          "state": {
            "_dom_classes": [],
            "_model_module": "@jupyter-widgets/controls",
            "_model_module_version": "1.5.0",
            "_model_name": "FloatProgressModel",
            "_view_count": null,
            "_view_module": "@jupyter-widgets/controls",
            "_view_module_version": "1.5.0",
            "_view_name": "ProgressView",
            "bar_style": "success",
            "description": "",
            "description_tooltip": null,
            "layout": "IPY_MODEL_c83bc703ce3440779b672cb76e4e19b4",
            "max": 1000,
            "min": 0,
            "orientation": "horizontal",
            "style": "IPY_MODEL_329d3f7eecca4868928f15ef5afc3737",
            "value": 1000
          }
        },
        "23465917b2344f55bd008724d77ad872": {
          "model_module": "@jupyter-widgets/controls",
          "model_name": "HTMLModel",
          "model_module_version": "1.5.0",
          "state": {
            "_dom_classes": [],
            "_model_module": "@jupyter-widgets/controls",
            "_model_module_version": "1.5.0",
            "_model_name": "HTMLModel",
            "_view_count": null,
            "_view_module": "@jupyter-widgets/controls",
            "_view_module_version": "1.5.0",
            "_view_name": "HTMLView",
            "description": "",
            "description_tooltip": null,
            "layout": "IPY_MODEL_7e2982b982ca4a7aa44338b322ff82bc",
            "placeholder": "​",
            "style": "IPY_MODEL_0666a9c09dcd4df7bb650bb6274ae92e",
            "value": " 1000/1000 [07:02&lt;00:00,  3.36it/s]"
          }
        },
        "b6003e320a5642f4b4b721255f9ada4e": {
          "model_module": "@jupyter-widgets/base",
          "model_name": "LayoutModel",
          "model_module_version": "1.2.0",
          "state": {
            "_model_module": "@jupyter-widgets/base",
            "_model_module_version": "1.2.0",
            "_model_name": "LayoutModel",
            "_view_count": null,
            "_view_module": "@jupyter-widgets/base",
            "_view_module_version": "1.2.0",
            "_view_name": "LayoutView",
            "align_content": null,
            "align_items": null,
            "align_self": null,
            "border": null,
            "bottom": null,
            "display": null,
            "flex": null,
            "flex_flow": null,
            "grid_area": null,
            "grid_auto_columns": null,
            "grid_auto_flow": null,
            "grid_auto_rows": null,
            "grid_column": null,
            "grid_gap": null,
            "grid_row": null,
            "grid_template_areas": null,
            "grid_template_columns": null,
            "grid_template_rows": null,
            "height": null,
            "justify_content": null,
            "justify_items": null,
            "left": null,
            "margin": null,
            "max_height": null,
            "max_width": null,
            "min_height": null,
            "min_width": null,
            "object_fit": null,
            "object_position": null,
            "order": null,
            "overflow": null,
            "overflow_x": null,
            "overflow_y": null,
            "padding": null,
            "right": null,
            "top": null,
            "visibility": null,
            "width": null
          }
        },
        "6b8e4d26733141208c9cc451c33b769f": {
          "model_module": "@jupyter-widgets/base",
          "model_name": "LayoutModel",
          "model_module_version": "1.2.0",
          "state": {
            "_model_module": "@jupyter-widgets/base",
            "_model_module_version": "1.2.0",
            "_model_name": "LayoutModel",
            "_view_count": null,
            "_view_module": "@jupyter-widgets/base",
            "_view_module_version": "1.2.0",
            "_view_name": "LayoutView",
            "align_content": null,
            "align_items": null,
            "align_self": null,
            "border": null,
            "bottom": null,
            "display": null,
            "flex": null,
            "flex_flow": null,
            "grid_area": null,
            "grid_auto_columns": null,
            "grid_auto_flow": null,
            "grid_auto_rows": null,
            "grid_column": null,
            "grid_gap": null,
            "grid_row": null,
            "grid_template_areas": null,
            "grid_template_columns": null,
            "grid_template_rows": null,
            "height": null,
            "justify_content": null,
            "justify_items": null,
            "left": null,
            "margin": null,
            "max_height": null,
            "max_width": null,
            "min_height": null,
            "min_width": null,
            "object_fit": null,
            "object_position": null,
            "order": null,
            "overflow": null,
            "overflow_x": null,
            "overflow_y": null,
            "padding": null,
            "right": null,
            "top": null,
            "visibility": null,
            "width": null
          }
        },
        "a1410fbbcff14b18b90fae253228abe6": {
          "model_module": "@jupyter-widgets/controls",
          "model_name": "DescriptionStyleModel",
          "model_module_version": "1.5.0",
          "state": {
            "_model_module": "@jupyter-widgets/controls",
            "_model_module_version": "1.5.0",
            "_model_name": "DescriptionStyleModel",
            "_view_count": null,
            "_view_module": "@jupyter-widgets/base",
            "_view_module_version": "1.2.0",
            "_view_name": "StyleView",
            "description_width": ""
          }
        },
        "c83bc703ce3440779b672cb76e4e19b4": {
          "model_module": "@jupyter-widgets/base",
          "model_name": "LayoutModel",
          "model_module_version": "1.2.0",
          "state": {
            "_model_module": "@jupyter-widgets/base",
            "_model_module_version": "1.2.0",
            "_model_name": "LayoutModel",
            "_view_count": null,
            "_view_module": "@jupyter-widgets/base",
            "_view_module_version": "1.2.0",
            "_view_name": "LayoutView",
            "align_content": null,
            "align_items": null,
            "align_self": null,
            "border": null,
            "bottom": null,
            "display": null,
            "flex": null,
            "flex_flow": null,
            "grid_area": null,
            "grid_auto_columns": null,
            "grid_auto_flow": null,
            "grid_auto_rows": null,
            "grid_column": null,
            "grid_gap": null,
            "grid_row": null,
            "grid_template_areas": null,
            "grid_template_columns": null,
            "grid_template_rows": null,
            "height": null,
            "justify_content": null,
            "justify_items": null,
            "left": null,
            "margin": null,
            "max_height": null,
            "max_width": null,
            "min_height": null,
            "min_width": null,
            "object_fit": null,
            "object_position": null,
            "order": null,
            "overflow": null,
            "overflow_x": null,
            "overflow_y": null,
            "padding": null,
            "right": null,
            "top": null,
            "visibility": null,
            "width": null
          }
        },
        "329d3f7eecca4868928f15ef5afc3737": {
          "model_module": "@jupyter-widgets/controls",
          "model_name": "ProgressStyleModel",
          "model_module_version": "1.5.0",
          "state": {
            "_model_module": "@jupyter-widgets/controls",
            "_model_module_version": "1.5.0",
            "_model_name": "ProgressStyleModel",
            "_view_count": null,
            "_view_module": "@jupyter-widgets/base",
            "_view_module_version": "1.2.0",
            "_view_name": "StyleView",
            "bar_color": null,
            "description_width": ""
          }
        },
        "7e2982b982ca4a7aa44338b322ff82bc": {
          "model_module": "@jupyter-widgets/base",
          "model_name": "LayoutModel",
          "model_module_version": "1.2.0",
          "state": {
            "_model_module": "@jupyter-widgets/base",
            "_model_module_version": "1.2.0",
            "_model_name": "LayoutModel",
            "_view_count": null,
            "_view_module": "@jupyter-widgets/base",
            "_view_module_version": "1.2.0",
            "_view_name": "LayoutView",
            "align_content": null,
            "align_items": null,
            "align_self": null,
            "border": null,
            "bottom": null,
            "display": null,
            "flex": null,
            "flex_flow": null,
            "grid_area": null,
            "grid_auto_columns": null,
            "grid_auto_flow": null,
            "grid_auto_rows": null,
            "grid_column": null,
            "grid_gap": null,
            "grid_row": null,
            "grid_template_areas": null,
            "grid_template_columns": null,
            "grid_template_rows": null,
            "height": null,
            "justify_content": null,
            "justify_items": null,
            "left": null,
            "margin": null,
            "max_height": null,
            "max_width": null,
            "min_height": null,
            "min_width": null,
            "object_fit": null,
            "object_position": null,
            "order": null,
            "overflow": null,
            "overflow_x": null,
            "overflow_y": null,
            "padding": null,
            "right": null,
            "top": null,
            "visibility": null,
            "width": null
          }
        },
        "0666a9c09dcd4df7bb650bb6274ae92e": {
          "model_module": "@jupyter-widgets/controls",
          "model_name": "DescriptionStyleModel",
          "model_module_version": "1.5.0",
          "state": {
            "_model_module": "@jupyter-widgets/controls",
            "_model_module_version": "1.5.0",
            "_model_name": "DescriptionStyleModel",
            "_view_count": null,
            "_view_module": "@jupyter-widgets/base",
            "_view_module_version": "1.2.0",
            "_view_name": "StyleView",
            "description_width": ""
          }
        },
        "edf597b7fc224c87ac33db0b1691bfe2": {
          "model_module": "@jupyter-widgets/controls",
          "model_name": "HBoxModel",
          "model_module_version": "1.5.0",
          "state": {
            "_dom_classes": [],
            "_model_module": "@jupyter-widgets/controls",
            "_model_module_version": "1.5.0",
            "_model_name": "HBoxModel",
            "_view_count": null,
            "_view_module": "@jupyter-widgets/controls",
            "_view_module_version": "1.5.0",
            "_view_name": "HBoxView",
            "box_style": "",
            "children": [
              "IPY_MODEL_14746fdaa85e4c4e89774003c25d79cc",
              "IPY_MODEL_284be613665f4e488f82b30e7b06cdf3",
              "IPY_MODEL_e584573c665640069cd91d3bac2b58a2"
            ],
            "layout": "IPY_MODEL_8cd6b710a55b4388bf75b3a238109bbd"
          }
        },
        "14746fdaa85e4c4e89774003c25d79cc": {
          "model_module": "@jupyter-widgets/controls",
          "model_name": "HTMLModel",
          "model_module_version": "1.5.0",
          "state": {
            "_dom_classes": [],
            "_model_module": "@jupyter-widgets/controls",
            "_model_module_version": "1.5.0",
            "_model_name": "HTMLModel",
            "_view_count": null,
            "_view_module": "@jupyter-widgets/controls",
            "_view_module_version": "1.5.0",
            "_view_name": "HTMLView",
            "description": "",
            "description_tooltip": null,
            "layout": "IPY_MODEL_0f102428ebad4b63841ddfa25808fe7b",
            "placeholder": "​",
            "style": "IPY_MODEL_043f6b1a9ff94df490167f1f49024d97",
            "value": "Retrieving features: 100%"
          }
        },
        "284be613665f4e488f82b30e7b06cdf3": {
          "model_module": "@jupyter-widgets/controls",
          "model_name": "FloatProgressModel",
          "model_module_version": "1.5.0",
          "state": {
            "_dom_classes": [],
            "_model_module": "@jupyter-widgets/controls",
            "_model_module_version": "1.5.0",
            "_model_name": "FloatProgressModel",
            "_view_count": null,
            "_view_module": "@jupyter-widgets/controls",
            "_view_module_version": "1.5.0",
            "_view_name": "ProgressView",
            "bar_style": "success",
            "description": "",
            "description_tooltip": null,
            "layout": "IPY_MODEL_60b73d657e524a2b8f3429f8bdf0a389",
            "max": 1000,
            "min": 0,
            "orientation": "horizontal",
            "style": "IPY_MODEL_37345f7352924cbeb26a6a07dee4d66f",
            "value": 1000
          }
        },
        "e584573c665640069cd91d3bac2b58a2": {
          "model_module": "@jupyter-widgets/controls",
          "model_name": "HTMLModel",
          "model_module_version": "1.5.0",
          "state": {
            "_dom_classes": [],
            "_model_module": "@jupyter-widgets/controls",
            "_model_module_version": "1.5.0",
            "_model_name": "HTMLModel",
            "_view_count": null,
            "_view_module": "@jupyter-widgets/controls",
            "_view_module_version": "1.5.0",
            "_view_name": "HTMLView",
            "description": "",
            "description_tooltip": null,
            "layout": "IPY_MODEL_f4928da4148d4b679bce26654427ae7a",
            "placeholder": "​",
            "style": "IPY_MODEL_226dd81a67ec420ea5db1fcd720b19c7",
            "value": " 1000/1000 [06:58&lt;00:00,  3.56it/s]"
          }
        },
        "8cd6b710a55b4388bf75b3a238109bbd": {
          "model_module": "@jupyter-widgets/base",
          "model_name": "LayoutModel",
          "model_module_version": "1.2.0",
          "state": {
            "_model_module": "@jupyter-widgets/base",
            "_model_module_version": "1.2.0",
            "_model_name": "LayoutModel",
            "_view_count": null,
            "_view_module": "@jupyter-widgets/base",
            "_view_module_version": "1.2.0",
            "_view_name": "LayoutView",
            "align_content": null,
            "align_items": null,
            "align_self": null,
            "border": null,
            "bottom": null,
            "display": null,
            "flex": null,
            "flex_flow": null,
            "grid_area": null,
            "grid_auto_columns": null,
            "grid_auto_flow": null,
            "grid_auto_rows": null,
            "grid_column": null,
            "grid_gap": null,
            "grid_row": null,
            "grid_template_areas": null,
            "grid_template_columns": null,
            "grid_template_rows": null,
            "height": null,
            "justify_content": null,
            "justify_items": null,
            "left": null,
            "margin": null,
            "max_height": null,
            "max_width": null,
            "min_height": null,
            "min_width": null,
            "object_fit": null,
            "object_position": null,
            "order": null,
            "overflow": null,
            "overflow_x": null,
            "overflow_y": null,
            "padding": null,
            "right": null,
            "top": null,
            "visibility": null,
            "width": null
          }
        },
        "0f102428ebad4b63841ddfa25808fe7b": {
          "model_module": "@jupyter-widgets/base",
          "model_name": "LayoutModel",
          "model_module_version": "1.2.0",
          "state": {
            "_model_module": "@jupyter-widgets/base",
            "_model_module_version": "1.2.0",
            "_model_name": "LayoutModel",
            "_view_count": null,
            "_view_module": "@jupyter-widgets/base",
            "_view_module_version": "1.2.0",
            "_view_name": "LayoutView",
            "align_content": null,
            "align_items": null,
            "align_self": null,
            "border": null,
            "bottom": null,
            "display": null,
            "flex": null,
            "flex_flow": null,
            "grid_area": null,
            "grid_auto_columns": null,
            "grid_auto_flow": null,
            "grid_auto_rows": null,
            "grid_column": null,
            "grid_gap": null,
            "grid_row": null,
            "grid_template_areas": null,
            "grid_template_columns": null,
            "grid_template_rows": null,
            "height": null,
            "justify_content": null,
            "justify_items": null,
            "left": null,
            "margin": null,
            "max_height": null,
            "max_width": null,
            "min_height": null,
            "min_width": null,
            "object_fit": null,
            "object_position": null,
            "order": null,
            "overflow": null,
            "overflow_x": null,
            "overflow_y": null,
            "padding": null,
            "right": null,
            "top": null,
            "visibility": null,
            "width": null
          }
        },
        "043f6b1a9ff94df490167f1f49024d97": {
          "model_module": "@jupyter-widgets/controls",
          "model_name": "DescriptionStyleModel",
          "model_module_version": "1.5.0",
          "state": {
            "_model_module": "@jupyter-widgets/controls",
            "_model_module_version": "1.5.0",
            "_model_name": "DescriptionStyleModel",
            "_view_count": null,
            "_view_module": "@jupyter-widgets/base",
            "_view_module_version": "1.2.0",
            "_view_name": "StyleView",
            "description_width": ""
          }
        },
        "60b73d657e524a2b8f3429f8bdf0a389": {
          "model_module": "@jupyter-widgets/base",
          "model_name": "LayoutModel",
          "model_module_version": "1.2.0",
          "state": {
            "_model_module": "@jupyter-widgets/base",
            "_model_module_version": "1.2.0",
            "_model_name": "LayoutModel",
            "_view_count": null,
            "_view_module": "@jupyter-widgets/base",
            "_view_module_version": "1.2.0",
            "_view_name": "LayoutView",
            "align_content": null,
            "align_items": null,
            "align_self": null,
            "border": null,
            "bottom": null,
            "display": null,
            "flex": null,
            "flex_flow": null,
            "grid_area": null,
            "grid_auto_columns": null,
            "grid_auto_flow": null,
            "grid_auto_rows": null,
            "grid_column": null,
            "grid_gap": null,
            "grid_row": null,
            "grid_template_areas": null,
            "grid_template_columns": null,
            "grid_template_rows": null,
            "height": null,
            "justify_content": null,
            "justify_items": null,
            "left": null,
            "margin": null,
            "max_height": null,
            "max_width": null,
            "min_height": null,
            "min_width": null,
            "object_fit": null,
            "object_position": null,
            "order": null,
            "overflow": null,
            "overflow_x": null,
            "overflow_y": null,
            "padding": null,
            "right": null,
            "top": null,
            "visibility": null,
            "width": null
          }
        },
        "37345f7352924cbeb26a6a07dee4d66f": {
          "model_module": "@jupyter-widgets/controls",
          "model_name": "ProgressStyleModel",
          "model_module_version": "1.5.0",
          "state": {
            "_model_module": "@jupyter-widgets/controls",
            "_model_module_version": "1.5.0",
            "_model_name": "ProgressStyleModel",
            "_view_count": null,
            "_view_module": "@jupyter-widgets/base",
            "_view_module_version": "1.2.0",
            "_view_name": "StyleView",
            "bar_color": null,
            "description_width": ""
          }
        },
        "f4928da4148d4b679bce26654427ae7a": {
          "model_module": "@jupyter-widgets/base",
          "model_name": "LayoutModel",
          "model_module_version": "1.2.0",
          "state": {
            "_model_module": "@jupyter-widgets/base",
            "_model_module_version": "1.2.0",
            "_model_name": "LayoutModel",
            "_view_count": null,
            "_view_module": "@jupyter-widgets/base",
            "_view_module_version": "1.2.0",
            "_view_name": "LayoutView",
            "align_content": null,
            "align_items": null,
            "align_self": null,
            "border": null,
            "bottom": null,
            "display": null,
            "flex": null,
            "flex_flow": null,
            "grid_area": null,
            "grid_auto_columns": null,
            "grid_auto_flow": null,
            "grid_auto_rows": null,
            "grid_column": null,
            "grid_gap": null,
            "grid_row": null,
            "grid_template_areas": null,
            "grid_template_columns": null,
            "grid_template_rows": null,
            "height": null,
            "justify_content": null,
            "justify_items": null,
            "left": null,
            "margin": null,
            "max_height": null,
            "max_width": null,
            "min_height": null,
            "min_width": null,
            "object_fit": null,
            "object_position": null,
            "order": null,
            "overflow": null,
            "overflow_x": null,
            "overflow_y": null,
            "padding": null,
            "right": null,
            "top": null,
            "visibility": null,
            "width": null
          }
        },
        "226dd81a67ec420ea5db1fcd720b19c7": {
          "model_module": "@jupyter-widgets/controls",
          "model_name": "DescriptionStyleModel",
          "model_module_version": "1.5.0",
          "state": {
            "_model_module": "@jupyter-widgets/controls",
            "_model_module_version": "1.5.0",
            "_model_name": "DescriptionStyleModel",
            "_view_count": null,
            "_view_module": "@jupyter-widgets/base",
            "_view_module_version": "1.2.0",
            "_view_name": "StyleView",
            "description_width": ""
          }
        }
      }
    }
  },
  "nbformat": 4,
  "nbformat_minor": 0
}