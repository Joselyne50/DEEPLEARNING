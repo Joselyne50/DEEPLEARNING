{
  "nbformat": 4,
  "nbformat_minor": 0,
  "metadata": {
    "colab": {
      "provenance": [],
      "authorship_tag": "ABX9TyO0XdGfMcnVUVajjYOFmmdK",
      "include_colab_link": true
    },
    "kernelspec": {
      "name": "python3",
      "display_name": "Python 3"
    },
    "language_info": {
      "name": "python"
    }
  },
  "cells": [
    {
      "cell_type": "markdown",
      "metadata": {
        "id": "view-in-github",
        "colab_type": "text"
      },
      "source": [
        "<a href=\"https://colab.research.google.com/github/Joselyne50/DEEPLEARNING/blob/main/webscrapping.ipynb\" target=\"_parent\"><img src=\"https://colab.research.google.com/assets/colab-badge.svg\" alt=\"Open In Colab\"/></a>"
      ]
    },
    {
      "cell_type": "code",
      "execution_count": null,
      "metadata": {
        "id": "7sku3a6nBnXT"
      },
      "outputs": [],
      "source": [
        "import requests  # for visiting url\n",
        "from bs4 import BeautifulSoup as sp # for parsing data returned from the url"
      ]
    },
    {
      "cell_type": "code",
      "source": [
        "page = requests.get('https://www.geeksforgeeks.org/python-programming-language/?ref=shm') # visit url\n",
        "\n",
        "# links = {\"coding\":[],\n",
        "#          \"news\":[],\n",
        "#          \"article\":[]}\n"
      ],
      "metadata": {
        "id": "L6yltcdMB8b6"
      },
      "execution_count": null,
      "outputs": []
    },
    {
      "cell_type": "code",
      "source": [
        "contents = sp(page.content, 'html.parser') # read content fron visited url\n"
      ],
      "metadata": {
        "id": "LrQjMGM7CJuJ"
      },
      "execution_count": null,
      "outputs": []
    },
    {
      "cell_type": "code",
      "source": [
        "p_contents = contents.find_all('li') # get links"
      ],
      "metadata": {
        "colab": {
          "base_uri": "https://localhost:8080/"
        },
        "id": "X4tDL0XMC0S9",
        "outputId": "5df3cfa5-8a89-4cc5-feea-66f8807c9fd5"
      },
      "execution_count": 28,
      "outputs": [
        {
          "output_type": "execute_result",
          "data": {
            "text/plain": [
              "1249"
            ]
          },
          "metadata": {},
          "execution_count": 28
        }
      ]
    },
    {
      "cell_type": "code",
      "source": [
        "for p_data in [link for link in p_contents if 'python' in link.text][0:10]:\n",
        "  print(p_data.get('li'))\n",
        "  # t = requests.get()\n",
        "  # p_c = sp(t.content, 'html.parser')\n",
        "  # p_link = p_c.find_all('p')\n",
        "  # for para in p_link:\n",
        "  #   print(para.text)\n",
        "  # print(\"*\"*100)\n",
        "  # print()"
      ],
      "metadata": {
        "id": "h1RJSIEQDpS1"
      },
      "execution_count": null,
      "outputs": []
    }
  ]
}