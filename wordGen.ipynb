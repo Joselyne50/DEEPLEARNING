{
  "nbformat": 4,
  "nbformat_minor": 0,
  "metadata": {
    "colab": {
      "provenance": [],
      "authorship_tag": "ABX9TyMB+BCrNTb647ncvJ5Ybpny",
      "include_colab_link": true
    },
    "kernelspec": {
      "name": "python3",
      "display_name": "Python 3"
    },
    "language_info": {
      "name": "python"
    }
  },
  "cells": [
    {
      "cell_type": "markdown",
      "metadata": {
        "id": "view-in-github",
        "colab_type": "text"
      },
      "source": [
        "<a href=\"https://colab.research.google.com/github/Joselyne50/DEEPLEARNING/blob/main/wordGen.ipynb\" target=\"_parent\"><img src=\"https://colab.research.google.com/assets/colab-badge.svg\" alt=\"Open In Colab\"/></a>"
      ]
    },
    {
      "cell_type": "code",
      "source": [
        "from string import ascii_lowercase\n",
        "from random import randint, choice\n",
        "import re\n",
        "\n",
        "def generate_ijambo(min_size = 4, max_size = 15):\n",
        "    vowels = set(['a', 'i', 'e', 'o', 'u'])\n",
        "    all_chars = set(ascii_lowercase)\n",
        "    consonants = list(all_chars - vowels - {'x', 'q'})\n",
        "    vowels = list(vowels)\n",
        "    word_size = randint(min_size, max_size)\n",
        "    word = []\n",
        "    sequences = []\n",
        "    # New list of combinations\n",
        "    ibihekane = ['mb', 'mf', 'mp', 'mv', 'nd', 'ng', 'ny', 'sh', 'nj', 'nk', 'ns', 'ts', 'nsh', 'nshy', 'nt', 'nz', 'bw',\n",
        "                 'cw', 'dw', 'fw', 'gw', 'hw', 'jw', 'kw', 'mw', 'nw', 'nyw', 'pfw', 'pw', 'rw', 'shw', 'shyw', 'sw',\n",
        "                 'tsw', 'tw', 'vw', 'zw', 'by', 'cy', 'jy', 'my', 'nny', 'pfy', 'py', 'ry', 'sy', 'ty', 'vy', 'byw',\n",
        "                 'myw', 'pfyw', 'ryw', 'vyw', 'mbw', 'mfw', 'mpw', 'mvw', 'ndw', 'ngw', 'njw', 'nkw', 'nshw', 'nshyw',\n",
        "                 'nsw', 'ntw', 'nzw', 'mby', 'mpy', 'mvy', 'ncy', 'ndy', 'njy', 'nsy', 'nty', 'mbyw', 'mvyw', 'njyw']\n",
        "    starter = [vowels, consonants, ibihekane]\n",
        "    allowable_sequence  =['0-1','0-2','1-0','2-0']\n",
        "\n",
        "    while len(word) != word_size:\n",
        "      sequence = randint(0, 2)\n",
        "      word_type = starter[sequence]\n",
        "      word_part = word_type[randint(0, len(word_type)-1)]\n",
        "      if len(word):\n",
        "        if (sequences[-1] + '-' + str(sequence)) in allowable_sequence:\n",
        "          word.append(word_part)\n",
        "          sequences.append(str(sequence))\n",
        "      else:\n",
        "        word.append(word_part)\n",
        "        sequences.append(str(sequence))\n",
        "    if word[-1] not in vowels:\n",
        "      rand_vowel = word.append(vowels[randint(0, len(vowels)-1)])\n",
        "    return ''.join(word)\n",
        "\n",
        "i = 1\n",
        "while True:\n",
        "  word = generate_ijambo()\n",
        "  if word == 'mama':\n",
        "    print(word)\n",
        "    break\n",
        "  print(f'{i}. {word}')\n",
        "  i += 1\n"
      ],
      "metadata": {
        "id": "gwkG-kmAj32D"
      },
      "execution_count": null,
      "outputs": []
    }
  ]
}